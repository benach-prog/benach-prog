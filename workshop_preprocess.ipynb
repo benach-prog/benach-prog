{
  "nbformat": 4,
  "nbformat_minor": 0,
  "metadata": {
    "colab": {
      "provenance": [],
      "collapsed_sections": [
        "EeWlQFw1MSBt"
      ],
      "include_colab_link": true
    },
    "kernelspec": {
      "name": "python3",
      "display_name": "Python 3"
    },
    "language_info": {
      "name": "python"
    }
  },
  "cells": [
    {
      "cell_type": "markdown",
      "metadata": {
        "id": "view-in-github",
        "colab_type": "text"
      },
      "source": [
        "<a href=\"https://colab.research.google.com/github/benach-prog/benach-prog/blob/main/workshop_preprocess.ipynb\" target=\"_parent\"><img src=\"https://colab.research.google.com/assets/colab-badge.svg\" alt=\"Open In Colab\"/></a>"
      ]
    },
    {
      "cell_type": "markdown",
      "source": [],
      "metadata": {
        "id": "I9uvEMKPRkNd"
      }
    },
    {
      "cell_type": "code",
      "execution_count": null,
      "metadata": {
        "colab": {
          "base_uri": "https://localhost:8080/",
          "height": 1000
        },
        "id": "qKuOdl1ORO7y",
        "outputId": "79540ff5-fbe2-41a7-b192-fee8bd72fcab"
      },
      "outputs": [
        {
          "output_type": "execute_result",
          "data": {
            "text/plain": [
              "           id  rated    created_at  last_move_at  turns victory_status winner  \\\n",
              "0    TZJHLljE  False  1.504210e+12  1.504210e+12     13      outoftime  white   \n",
              "1    l1NXvwaE    NaN           NaN  1.504130e+12     16         resign  black   \n",
              "2    mIICvQHh   True  1.504130e+12  1.504130e+12     61           mate  white   \n",
              "3    kWKvrqYL   True  1.504110e+12  1.504110e+12     61           mate  white   \n",
              "4    9tXo1AUZ   True  1.504030e+12  1.504030e+12     95           mate  white   \n",
              "..        ...    ...           ...           ...    ...            ...    ...   \n",
              "120  XRuQPSzH   True  1.503580e+12  1.503580e+12     50         resign  black   \n",
              "121  XPZikam7   True  1.503500e+12  1.503500e+12     59           mate  white   \n",
              "122  5SNh53F9   True  1.504080e+12  1.504080e+12     26      outoftime  black   \n",
              "123  ezdEKpqG   True  1.504080e+12  1.504080e+12     23           mate  white   \n",
              "124  WyQjriEX   True  1.503960e+12  1.503960e+12    118           mate  black   \n",
              "\n",
              "    increment_code       white_id  white_rating      black_id  black_rating  \\\n",
              "0             15+2       bourgris        1500.0          a-00        1191.0   \n",
              "1             5+10           a-00        1322.0     skinnerua        1261.0   \n",
              "2             5+10         ischia        1496.0          a-00        1500.0   \n",
              "3             20+0  daniamurashov        1439.0  adivanov2009        1454.0   \n",
              "4             30+3      nik221107        1523.0  adivanov2009        1469.0   \n",
              "..             ...            ...           ...           ...           ...   \n",
              "120           10+0    chess-brahs        2036.0          cdvh        1706.0   \n",
              "121           10+0           cdvh        1706.0        dashy1         925.0   \n",
              "122          15+15  mosheaugustyn        1244.0        sassou        1219.0   \n",
              "123          15+15         sassou        1215.0   memoryberat         921.0   \n",
              "124          15+15         fatmat        1350.0        sassou        1201.0   \n",
              "\n",
              "                                                 moves opening_eco  \\\n",
              "0    d4 d5 c4 c6 cxd5 e6 dxe6 fxe6 Nf3 Bb4+ Nc3 Ba5...         D10   \n",
              "1    d4 Nc6 e4 e5 f4 f6 dxe5 fxe5 fxe5 Nxe5 Qd4 Nc6...         B00   \n",
              "2    e4 e5 d3 d6 Be3 c6 Be2 b5 Nd2 a5 a4 c5 axb5 Nc...         C20   \n",
              "3    d4 d5 Nf3 Bf5 Nc3 Nf6 Bf4 Ng4 e3 Nc6 Be2 Qd7 O...         D02   \n",
              "4    e4 e5 Nf3 d6 d4 Nc6 d5 Nb4 a3 Na6 Nc3 Be7 b4 N...         C41   \n",
              "..                                                 ...         ...   \n",
              "120  Nf3 d5 g3 c5 Bg2 Nc6 d3 Nf6 O-O e5 Nc3 d4 Ne4 ...         A08   \n",
              "121  d4 d5 Nf3 Nf6 Bf4 Nc6 e3 Bf5 Bb5 e6 Ne5 Bb4+ c...         D02   \n",
              "122  d4 d6 e4 Nc6 d5 Ne5 Be2 e6 c4 exd5 cxd5 c6 dxc...         B00   \n",
              "123  e4 e5 Nf3 Nc6 Bc4 Bb4 c3 Bc5 b4 Bb6 d3 Nf6 Ng5...         C50   \n",
              "124  e4 Nf6 e5 Nd5 d4 e6 c3 Be7 Nf3 d6 Bb5+ c6 Ba4 ...         B03   \n",
              "\n",
              "                               opening_name  opening_ply  \n",
              "0          Slav Defense: Exchange Variation            5  \n",
              "1    Nimzowitsch Defense: Kennedy Variation            4  \n",
              "2     King's Pawn Game: Leonardis Variation            3  \n",
              "3    Queen's Pawn Game: Zukertort Variation            3  \n",
              "4                          Philidor Defense            5  \n",
              "..                                      ...          ...  \n",
              "120  King's Indian Attack: French Variation            6  \n",
              "121        Queen's Pawn Game: London System            5  \n",
              "122  Nimzowitsch Defense: Mikenas Variation            4  \n",
              "123                            Italian Game            5  \n",
              "124                     Alekhine Defense #2            5  \n",
              "\n",
              "[125 rows x 16 columns]"
            ],
            "text/html": [
              "\n",
              "  <div id=\"df-898e5e86-ecb3-48cf-9e3c-f39826b1c5d0\">\n",
              "    <div class=\"colab-df-container\">\n",
              "      <div>\n",
              "<style scoped>\n",
              "    .dataframe tbody tr th:only-of-type {\n",
              "        vertical-align: middle;\n",
              "    }\n",
              "\n",
              "    .dataframe tbody tr th {\n",
              "        vertical-align: top;\n",
              "    }\n",
              "\n",
              "    .dataframe thead th {\n",
              "        text-align: right;\n",
              "    }\n",
              "</style>\n",
              "<table border=\"1\" class=\"dataframe\">\n",
              "  <thead>\n",
              "    <tr style=\"text-align: right;\">\n",
              "      <th></th>\n",
              "      <th>id</th>\n",
              "      <th>rated</th>\n",
              "      <th>created_at</th>\n",
              "      <th>last_move_at</th>\n",
              "      <th>turns</th>\n",
              "      <th>victory_status</th>\n",
              "      <th>winner</th>\n",
              "      <th>increment_code</th>\n",
              "      <th>white_id</th>\n",
              "      <th>white_rating</th>\n",
              "      <th>black_id</th>\n",
              "      <th>black_rating</th>\n",
              "      <th>moves</th>\n",
              "      <th>opening_eco</th>\n",
              "      <th>opening_name</th>\n",
              "      <th>opening_ply</th>\n",
              "    </tr>\n",
              "  </thead>\n",
              "  <tbody>\n",
              "    <tr>\n",
              "      <th>0</th>\n",
              "      <td>TZJHLljE</td>\n",
              "      <td>False</td>\n",
              "      <td>1.504210e+12</td>\n",
              "      <td>1.504210e+12</td>\n",
              "      <td>13</td>\n",
              "      <td>outoftime</td>\n",
              "      <td>white</td>\n",
              "      <td>15+2</td>\n",
              "      <td>bourgris</td>\n",
              "      <td>1500.0</td>\n",
              "      <td>a-00</td>\n",
              "      <td>1191.0</td>\n",
              "      <td>d4 d5 c4 c6 cxd5 e6 dxe6 fxe6 Nf3 Bb4+ Nc3 Ba5...</td>\n",
              "      <td>D10</td>\n",
              "      <td>Slav Defense: Exchange Variation</td>\n",
              "      <td>5</td>\n",
              "    </tr>\n",
              "    <tr>\n",
              "      <th>1</th>\n",
              "      <td>l1NXvwaE</td>\n",
              "      <td>NaN</td>\n",
              "      <td>NaN</td>\n",
              "      <td>1.504130e+12</td>\n",
              "      <td>16</td>\n",
              "      <td>resign</td>\n",
              "      <td>black</td>\n",
              "      <td>5+10</td>\n",
              "      <td>a-00</td>\n",
              "      <td>1322.0</td>\n",
              "      <td>skinnerua</td>\n",
              "      <td>1261.0</td>\n",
              "      <td>d4 Nc6 e4 e5 f4 f6 dxe5 fxe5 fxe5 Nxe5 Qd4 Nc6...</td>\n",
              "      <td>B00</td>\n",
              "      <td>Nimzowitsch Defense: Kennedy Variation</td>\n",
              "      <td>4</td>\n",
              "    </tr>\n",
              "    <tr>\n",
              "      <th>2</th>\n",
              "      <td>mIICvQHh</td>\n",
              "      <td>True</td>\n",
              "      <td>1.504130e+12</td>\n",
              "      <td>1.504130e+12</td>\n",
              "      <td>61</td>\n",
              "      <td>mate</td>\n",
              "      <td>white</td>\n",
              "      <td>5+10</td>\n",
              "      <td>ischia</td>\n",
              "      <td>1496.0</td>\n",
              "      <td>a-00</td>\n",
              "      <td>1500.0</td>\n",
              "      <td>e4 e5 d3 d6 Be3 c6 Be2 b5 Nd2 a5 a4 c5 axb5 Nc...</td>\n",
              "      <td>C20</td>\n",
              "      <td>King's Pawn Game: Leonardis Variation</td>\n",
              "      <td>3</td>\n",
              "    </tr>\n",
              "    <tr>\n",
              "      <th>3</th>\n",
              "      <td>kWKvrqYL</td>\n",
              "      <td>True</td>\n",
              "      <td>1.504110e+12</td>\n",
              "      <td>1.504110e+12</td>\n",
              "      <td>61</td>\n",
              "      <td>mate</td>\n",
              "      <td>white</td>\n",
              "      <td>20+0</td>\n",
              "      <td>daniamurashov</td>\n",
              "      <td>1439.0</td>\n",
              "      <td>adivanov2009</td>\n",
              "      <td>1454.0</td>\n",
              "      <td>d4 d5 Nf3 Bf5 Nc3 Nf6 Bf4 Ng4 e3 Nc6 Be2 Qd7 O...</td>\n",
              "      <td>D02</td>\n",
              "      <td>Queen's Pawn Game: Zukertort Variation</td>\n",
              "      <td>3</td>\n",
              "    </tr>\n",
              "    <tr>\n",
              "      <th>4</th>\n",
              "      <td>9tXo1AUZ</td>\n",
              "      <td>True</td>\n",
              "      <td>1.504030e+12</td>\n",
              "      <td>1.504030e+12</td>\n",
              "      <td>95</td>\n",
              "      <td>mate</td>\n",
              "      <td>white</td>\n",
              "      <td>30+3</td>\n",
              "      <td>nik221107</td>\n",
              "      <td>1523.0</td>\n",
              "      <td>adivanov2009</td>\n",
              "      <td>1469.0</td>\n",
              "      <td>e4 e5 Nf3 d6 d4 Nc6 d5 Nb4 a3 Na6 Nc3 Be7 b4 N...</td>\n",
              "      <td>C41</td>\n",
              "      <td>Philidor Defense</td>\n",
              "      <td>5</td>\n",
              "    </tr>\n",
              "    <tr>\n",
              "      <th>...</th>\n",
              "      <td>...</td>\n",
              "      <td>...</td>\n",
              "      <td>...</td>\n",
              "      <td>...</td>\n",
              "      <td>...</td>\n",
              "      <td>...</td>\n",
              "      <td>...</td>\n",
              "      <td>...</td>\n",
              "      <td>...</td>\n",
              "      <td>...</td>\n",
              "      <td>...</td>\n",
              "      <td>...</td>\n",
              "      <td>...</td>\n",
              "      <td>...</td>\n",
              "      <td>...</td>\n",
              "      <td>...</td>\n",
              "    </tr>\n",
              "    <tr>\n",
              "      <th>120</th>\n",
              "      <td>XRuQPSzH</td>\n",
              "      <td>True</td>\n",
              "      <td>1.503580e+12</td>\n",
              "      <td>1.503580e+12</td>\n",
              "      <td>50</td>\n",
              "      <td>resign</td>\n",
              "      <td>black</td>\n",
              "      <td>10+0</td>\n",
              "      <td>chess-brahs</td>\n",
              "      <td>2036.0</td>\n",
              "      <td>cdvh</td>\n",
              "      <td>1706.0</td>\n",
              "      <td>Nf3 d5 g3 c5 Bg2 Nc6 d3 Nf6 O-O e5 Nc3 d4 Ne4 ...</td>\n",
              "      <td>A08</td>\n",
              "      <td>King's Indian Attack: French Variation</td>\n",
              "      <td>6</td>\n",
              "    </tr>\n",
              "    <tr>\n",
              "      <th>121</th>\n",
              "      <td>XPZikam7</td>\n",
              "      <td>True</td>\n",
              "      <td>1.503500e+12</td>\n",
              "      <td>1.503500e+12</td>\n",
              "      <td>59</td>\n",
              "      <td>mate</td>\n",
              "      <td>white</td>\n",
              "      <td>10+0</td>\n",
              "      <td>cdvh</td>\n",
              "      <td>1706.0</td>\n",
              "      <td>dashy1</td>\n",
              "      <td>925.0</td>\n",
              "      <td>d4 d5 Nf3 Nf6 Bf4 Nc6 e3 Bf5 Bb5 e6 Ne5 Bb4+ c...</td>\n",
              "      <td>D02</td>\n",
              "      <td>Queen's Pawn Game: London System</td>\n",
              "      <td>5</td>\n",
              "    </tr>\n",
              "    <tr>\n",
              "      <th>122</th>\n",
              "      <td>5SNh53F9</td>\n",
              "      <td>True</td>\n",
              "      <td>1.504080e+12</td>\n",
              "      <td>1.504080e+12</td>\n",
              "      <td>26</td>\n",
              "      <td>outoftime</td>\n",
              "      <td>black</td>\n",
              "      <td>15+15</td>\n",
              "      <td>mosheaugustyn</td>\n",
              "      <td>1244.0</td>\n",
              "      <td>sassou</td>\n",
              "      <td>1219.0</td>\n",
              "      <td>d4 d6 e4 Nc6 d5 Ne5 Be2 e6 c4 exd5 cxd5 c6 dxc...</td>\n",
              "      <td>B00</td>\n",
              "      <td>Nimzowitsch Defense: Mikenas Variation</td>\n",
              "      <td>4</td>\n",
              "    </tr>\n",
              "    <tr>\n",
              "      <th>123</th>\n",
              "      <td>ezdEKpqG</td>\n",
              "      <td>True</td>\n",
              "      <td>1.504080e+12</td>\n",
              "      <td>1.504080e+12</td>\n",
              "      <td>23</td>\n",
              "      <td>mate</td>\n",
              "      <td>white</td>\n",
              "      <td>15+15</td>\n",
              "      <td>sassou</td>\n",
              "      <td>1215.0</td>\n",
              "      <td>memoryberat</td>\n",
              "      <td>921.0</td>\n",
              "      <td>e4 e5 Nf3 Nc6 Bc4 Bb4 c3 Bc5 b4 Bb6 d3 Nf6 Ng5...</td>\n",
              "      <td>C50</td>\n",
              "      <td>Italian Game</td>\n",
              "      <td>5</td>\n",
              "    </tr>\n",
              "    <tr>\n",
              "      <th>124</th>\n",
              "      <td>WyQjriEX</td>\n",
              "      <td>True</td>\n",
              "      <td>1.503960e+12</td>\n",
              "      <td>1.503960e+12</td>\n",
              "      <td>118</td>\n",
              "      <td>mate</td>\n",
              "      <td>black</td>\n",
              "      <td>15+15</td>\n",
              "      <td>fatmat</td>\n",
              "      <td>1350.0</td>\n",
              "      <td>sassou</td>\n",
              "      <td>1201.0</td>\n",
              "      <td>e4 Nf6 e5 Nd5 d4 e6 c3 Be7 Nf3 d6 Bb5+ c6 Ba4 ...</td>\n",
              "      <td>B03</td>\n",
              "      <td>Alekhine Defense #2</td>\n",
              "      <td>5</td>\n",
              "    </tr>\n",
              "  </tbody>\n",
              "</table>\n",
              "<p>125 rows × 16 columns</p>\n",
              "</div>\n",
              "      <button class=\"colab-df-convert\" onclick=\"convertToInteractive('df-898e5e86-ecb3-48cf-9e3c-f39826b1c5d0')\"\n",
              "              title=\"Convert this dataframe to an interactive table.\"\n",
              "              style=\"display:none;\">\n",
              "        \n",
              "  <svg xmlns=\"http://www.w3.org/2000/svg\" height=\"24px\"viewBox=\"0 0 24 24\"\n",
              "       width=\"24px\">\n",
              "    <path d=\"M0 0h24v24H0V0z\" fill=\"none\"/>\n",
              "    <path d=\"M18.56 5.44l.94 2.06.94-2.06 2.06-.94-2.06-.94-.94-2.06-.94 2.06-2.06.94zm-11 1L8.5 8.5l.94-2.06 2.06-.94-2.06-.94L8.5 2.5l-.94 2.06-2.06.94zm10 10l.94 2.06.94-2.06 2.06-.94-2.06-.94-.94-2.06-.94 2.06-2.06.94z\"/><path d=\"M17.41 7.96l-1.37-1.37c-.4-.4-.92-.59-1.43-.59-.52 0-1.04.2-1.43.59L10.3 9.45l-7.72 7.72c-.78.78-.78 2.05 0 2.83L4 21.41c.39.39.9.59 1.41.59.51 0 1.02-.2 1.41-.59l7.78-7.78 2.81-2.81c.8-.78.8-2.07 0-2.86zM5.41 20L4 18.59l7.72-7.72 1.47 1.35L5.41 20z\"/>\n",
              "  </svg>\n",
              "      </button>\n",
              "      \n",
              "  <style>\n",
              "    .colab-df-container {\n",
              "      display:flex;\n",
              "      flex-wrap:wrap;\n",
              "      gap: 12px;\n",
              "    }\n",
              "\n",
              "    .colab-df-convert {\n",
              "      background-color: #E8F0FE;\n",
              "      border: none;\n",
              "      border-radius: 50%;\n",
              "      cursor: pointer;\n",
              "      display: none;\n",
              "      fill: #1967D2;\n",
              "      height: 32px;\n",
              "      padding: 0 0 0 0;\n",
              "      width: 32px;\n",
              "    }\n",
              "\n",
              "    .colab-df-convert:hover {\n",
              "      background-color: #E2EBFA;\n",
              "      box-shadow: 0px 1px 2px rgba(60, 64, 67, 0.3), 0px 1px 3px 1px rgba(60, 64, 67, 0.15);\n",
              "      fill: #174EA6;\n",
              "    }\n",
              "\n",
              "    [theme=dark] .colab-df-convert {\n",
              "      background-color: #3B4455;\n",
              "      fill: #D2E3FC;\n",
              "    }\n",
              "\n",
              "    [theme=dark] .colab-df-convert:hover {\n",
              "      background-color: #434B5C;\n",
              "      box-shadow: 0px 1px 3px 1px rgba(0, 0, 0, 0.15);\n",
              "      filter: drop-shadow(0px 1px 2px rgba(0, 0, 0, 0.3));\n",
              "      fill: #FFFFFF;\n",
              "    }\n",
              "  </style>\n",
              "\n",
              "      <script>\n",
              "        const buttonEl =\n",
              "          document.querySelector('#df-898e5e86-ecb3-48cf-9e3c-f39826b1c5d0 button.colab-df-convert');\n",
              "        buttonEl.style.display =\n",
              "          google.colab.kernel.accessAllowed ? 'block' : 'none';\n",
              "\n",
              "        async function convertToInteractive(key) {\n",
              "          const element = document.querySelector('#df-898e5e86-ecb3-48cf-9e3c-f39826b1c5d0');\n",
              "          const dataTable =\n",
              "            await google.colab.kernel.invokeFunction('convertToInteractive',\n",
              "                                                     [key], {});\n",
              "          if (!dataTable) return;\n",
              "\n",
              "          const docLinkHtml = 'Like what you see? Visit the ' +\n",
              "            '<a target=\"_blank\" href=https://colab.research.google.com/notebooks/data_table.ipynb>data table notebook</a>'\n",
              "            + ' to learn more about interactive tables.';\n",
              "          element.innerHTML = '';\n",
              "          dataTable['output_type'] = 'display_data';\n",
              "          await google.colab.output.renderOutput(dataTable, element);\n",
              "          const docLink = document.createElement('div');\n",
              "          docLink.innerHTML = docLinkHtml;\n",
              "          element.appendChild(docLink);\n",
              "        }\n",
              "      </script>\n",
              "    </div>\n",
              "  </div>\n",
              "  "
            ]
          },
          "metadata": {},
          "execution_count": 1
        }
      ],
      "source": [
        "import pandas as pd\n",
        "\n",
        "df = pd.read_csv('game_modified.csv')\n",
        "df"
      ]
    },
    {
      "cell_type": "code",
      "source": [
        "df.info()"
      ],
      "metadata": {
        "colab": {
          "base_uri": "https://localhost:8080/"
        },
        "id": "twR5iWKGUi00",
        "outputId": "02af95dd-9d68-47eb-9ef6-fe03718a90a3"
      },
      "execution_count": null,
      "outputs": [
        {
          "output_type": "stream",
          "name": "stdout",
          "text": [
            "<class 'pandas.core.frame.DataFrame'>\n",
            "RangeIndex: 125 entries, 0 to 124\n",
            "Data columns (total 16 columns):\n",
            " #   Column          Non-Null Count  Dtype  \n",
            "---  ------          --------------  -----  \n",
            " 0   id              125 non-null    object \n",
            " 1   rated           120 non-null    object \n",
            " 2   created_at      123 non-null    float64\n",
            " 3   last_move_at    125 non-null    float64\n",
            " 4   turns           125 non-null    int64  \n",
            " 5   victory_status  125 non-null    object \n",
            " 6   winner          121 non-null    object \n",
            " 7   increment_code  125 non-null    object \n",
            " 8   white_id        125 non-null    object \n",
            " 9   white_rating    122 non-null    float64\n",
            " 10  black_id        125 non-null    object \n",
            " 11  black_rating    123 non-null    float64\n",
            " 12  moves           125 non-null    object \n",
            " 13  opening_eco     125 non-null    object \n",
            " 14  opening_name    125 non-null    object \n",
            " 15  opening_ply     125 non-null    int64  \n",
            "dtypes: float64(4), int64(2), object(10)\n",
            "memory usage: 15.8+ KB\n"
          ]
        }
      ]
    },
    {
      "cell_type": "code",
      "source": [
        "df.describe()"
      ],
      "metadata": {
        "colab": {
          "base_uri": "https://localhost:8080/",
          "height": 300
        },
        "id": "-nnM5ZDER233",
        "outputId": "33321e8a-91c5-4d68-9229-199fe5dc1986"
      },
      "execution_count": null,
      "outputs": [
        {
          "output_type": "execute_result",
          "data": {
            "text/plain": [
              "         created_at  last_move_at       turns  white_rating  black_rating  \\\n",
              "count  1.230000e+02  1.250000e+02  125.000000    122.000000    123.000000   \n",
              "mean   1.502988e+12  1.503006e+12   49.496000   1515.688525   1426.544715   \n",
              "std    1.551620e+09  1.544396e+09   29.359733    294.470503    298.265484   \n",
              "min    1.497890e+12  1.497890e+12    3.000000    976.000000    921.000000   \n",
              "25%    1.502950e+12  1.502950e+12   30.000000   1352.000000   1144.500000   \n",
              "50%    1.503540e+12  1.503540e+12   46.000000   1521.000000   1500.000000   \n",
              "75%    1.503710e+12  1.503760e+12   62.000000   1720.750000   1606.000000   \n",
              "max    1.504260e+12  1.504260e+12  137.000000   2449.000000   2108.000000   \n",
              "\n",
              "       opening_ply  \n",
              "count   125.000000  \n",
              "mean      4.824000  \n",
              "std       2.932202  \n",
              "min       1.000000  \n",
              "25%       3.000000  \n",
              "50%       4.000000  \n",
              "75%       6.000000  \n",
              "max      17.000000  "
            ],
            "text/html": [
              "\n",
              "  <div id=\"df-5b8a48cc-8d2a-4759-9ede-89b0ca6ed82f\">\n",
              "    <div class=\"colab-df-container\">\n",
              "      <div>\n",
              "<style scoped>\n",
              "    .dataframe tbody tr th:only-of-type {\n",
              "        vertical-align: middle;\n",
              "    }\n",
              "\n",
              "    .dataframe tbody tr th {\n",
              "        vertical-align: top;\n",
              "    }\n",
              "\n",
              "    .dataframe thead th {\n",
              "        text-align: right;\n",
              "    }\n",
              "</style>\n",
              "<table border=\"1\" class=\"dataframe\">\n",
              "  <thead>\n",
              "    <tr style=\"text-align: right;\">\n",
              "      <th></th>\n",
              "      <th>created_at</th>\n",
              "      <th>last_move_at</th>\n",
              "      <th>turns</th>\n",
              "      <th>white_rating</th>\n",
              "      <th>black_rating</th>\n",
              "      <th>opening_ply</th>\n",
              "    </tr>\n",
              "  </thead>\n",
              "  <tbody>\n",
              "    <tr>\n",
              "      <th>count</th>\n",
              "      <td>1.230000e+02</td>\n",
              "      <td>1.250000e+02</td>\n",
              "      <td>125.000000</td>\n",
              "      <td>122.000000</td>\n",
              "      <td>123.000000</td>\n",
              "      <td>125.000000</td>\n",
              "    </tr>\n",
              "    <tr>\n",
              "      <th>mean</th>\n",
              "      <td>1.502988e+12</td>\n",
              "      <td>1.503006e+12</td>\n",
              "      <td>49.496000</td>\n",
              "      <td>1515.688525</td>\n",
              "      <td>1426.544715</td>\n",
              "      <td>4.824000</td>\n",
              "    </tr>\n",
              "    <tr>\n",
              "      <th>std</th>\n",
              "      <td>1.551620e+09</td>\n",
              "      <td>1.544396e+09</td>\n",
              "      <td>29.359733</td>\n",
              "      <td>294.470503</td>\n",
              "      <td>298.265484</td>\n",
              "      <td>2.932202</td>\n",
              "    </tr>\n",
              "    <tr>\n",
              "      <th>min</th>\n",
              "      <td>1.497890e+12</td>\n",
              "      <td>1.497890e+12</td>\n",
              "      <td>3.000000</td>\n",
              "      <td>976.000000</td>\n",
              "      <td>921.000000</td>\n",
              "      <td>1.000000</td>\n",
              "    </tr>\n",
              "    <tr>\n",
              "      <th>25%</th>\n",
              "      <td>1.502950e+12</td>\n",
              "      <td>1.502950e+12</td>\n",
              "      <td>30.000000</td>\n",
              "      <td>1352.000000</td>\n",
              "      <td>1144.500000</td>\n",
              "      <td>3.000000</td>\n",
              "    </tr>\n",
              "    <tr>\n",
              "      <th>50%</th>\n",
              "      <td>1.503540e+12</td>\n",
              "      <td>1.503540e+12</td>\n",
              "      <td>46.000000</td>\n",
              "      <td>1521.000000</td>\n",
              "      <td>1500.000000</td>\n",
              "      <td>4.000000</td>\n",
              "    </tr>\n",
              "    <tr>\n",
              "      <th>75%</th>\n",
              "      <td>1.503710e+12</td>\n",
              "      <td>1.503760e+12</td>\n",
              "      <td>62.000000</td>\n",
              "      <td>1720.750000</td>\n",
              "      <td>1606.000000</td>\n",
              "      <td>6.000000</td>\n",
              "    </tr>\n",
              "    <tr>\n",
              "      <th>max</th>\n",
              "      <td>1.504260e+12</td>\n",
              "      <td>1.504260e+12</td>\n",
              "      <td>137.000000</td>\n",
              "      <td>2449.000000</td>\n",
              "      <td>2108.000000</td>\n",
              "      <td>17.000000</td>\n",
              "    </tr>\n",
              "  </tbody>\n",
              "</table>\n",
              "</div>\n",
              "      <button class=\"colab-df-convert\" onclick=\"convertToInteractive('df-5b8a48cc-8d2a-4759-9ede-89b0ca6ed82f')\"\n",
              "              title=\"Convert this dataframe to an interactive table.\"\n",
              "              style=\"display:none;\">\n",
              "        \n",
              "  <svg xmlns=\"http://www.w3.org/2000/svg\" height=\"24px\"viewBox=\"0 0 24 24\"\n",
              "       width=\"24px\">\n",
              "    <path d=\"M0 0h24v24H0V0z\" fill=\"none\"/>\n",
              "    <path d=\"M18.56 5.44l.94 2.06.94-2.06 2.06-.94-2.06-.94-.94-2.06-.94 2.06-2.06.94zm-11 1L8.5 8.5l.94-2.06 2.06-.94-2.06-.94L8.5 2.5l-.94 2.06-2.06.94zm10 10l.94 2.06.94-2.06 2.06-.94-2.06-.94-.94-2.06-.94 2.06-2.06.94z\"/><path d=\"M17.41 7.96l-1.37-1.37c-.4-.4-.92-.59-1.43-.59-.52 0-1.04.2-1.43.59L10.3 9.45l-7.72 7.72c-.78.78-.78 2.05 0 2.83L4 21.41c.39.39.9.59 1.41.59.51 0 1.02-.2 1.41-.59l7.78-7.78 2.81-2.81c.8-.78.8-2.07 0-2.86zM5.41 20L4 18.59l7.72-7.72 1.47 1.35L5.41 20z\"/>\n",
              "  </svg>\n",
              "      </button>\n",
              "      \n",
              "  <style>\n",
              "    .colab-df-container {\n",
              "      display:flex;\n",
              "      flex-wrap:wrap;\n",
              "      gap: 12px;\n",
              "    }\n",
              "\n",
              "    .colab-df-convert {\n",
              "      background-color: #E8F0FE;\n",
              "      border: none;\n",
              "      border-radius: 50%;\n",
              "      cursor: pointer;\n",
              "      display: none;\n",
              "      fill: #1967D2;\n",
              "      height: 32px;\n",
              "      padding: 0 0 0 0;\n",
              "      width: 32px;\n",
              "    }\n",
              "\n",
              "    .colab-df-convert:hover {\n",
              "      background-color: #E2EBFA;\n",
              "      box-shadow: 0px 1px 2px rgba(60, 64, 67, 0.3), 0px 1px 3px 1px rgba(60, 64, 67, 0.15);\n",
              "      fill: #174EA6;\n",
              "    }\n",
              "\n",
              "    [theme=dark] .colab-df-convert {\n",
              "      background-color: #3B4455;\n",
              "      fill: #D2E3FC;\n",
              "    }\n",
              "\n",
              "    [theme=dark] .colab-df-convert:hover {\n",
              "      background-color: #434B5C;\n",
              "      box-shadow: 0px 1px 3px 1px rgba(0, 0, 0, 0.15);\n",
              "      filter: drop-shadow(0px 1px 2px rgba(0, 0, 0, 0.3));\n",
              "      fill: #FFFFFF;\n",
              "    }\n",
              "  </style>\n",
              "\n",
              "      <script>\n",
              "        const buttonEl =\n",
              "          document.querySelector('#df-5b8a48cc-8d2a-4759-9ede-89b0ca6ed82f button.colab-df-convert');\n",
              "        buttonEl.style.display =\n",
              "          google.colab.kernel.accessAllowed ? 'block' : 'none';\n",
              "\n",
              "        async function convertToInteractive(key) {\n",
              "          const element = document.querySelector('#df-5b8a48cc-8d2a-4759-9ede-89b0ca6ed82f');\n",
              "          const dataTable =\n",
              "            await google.colab.kernel.invokeFunction('convertToInteractive',\n",
              "                                                     [key], {});\n",
              "          if (!dataTable) return;\n",
              "\n",
              "          const docLinkHtml = 'Like what you see? Visit the ' +\n",
              "            '<a target=\"_blank\" href=https://colab.research.google.com/notebooks/data_table.ipynb>data table notebook</a>'\n",
              "            + ' to learn more about interactive tables.';\n",
              "          element.innerHTML = '';\n",
              "          dataTable['output_type'] = 'display_data';\n",
              "          await google.colab.output.renderOutput(dataTable, element);\n",
              "          const docLink = document.createElement('div');\n",
              "          docLink.innerHTML = docLinkHtml;\n",
              "          element.appendChild(docLink);\n",
              "        }\n",
              "      </script>\n",
              "    </div>\n",
              "  </div>\n",
              "  "
            ]
          },
          "metadata": {},
          "execution_count": 3
        }
      ]
    },
    {
      "cell_type": "code",
      "source": [
        "df.isnull()"
      ],
      "metadata": {
        "colab": {
          "base_uri": "https://localhost:8080/",
          "height": 488
        },
        "id": "L4lzpVYogNJk",
        "outputId": "bcd7031b-90eb-470b-b522-15a15348535c"
      },
      "execution_count": null,
      "outputs": [
        {
          "output_type": "execute_result",
          "data": {
            "text/plain": [
              "        id  rated  created_at  last_move_at  turns  victory_status  winner  \\\n",
              "0    False  False       False         False  False           False   False   \n",
              "1    False   True        True         False  False           False   False   \n",
              "2    False  False       False         False  False           False   False   \n",
              "3    False  False       False         False  False           False   False   \n",
              "4    False  False       False         False  False           False   False   \n",
              "..     ...    ...         ...           ...    ...             ...     ...   \n",
              "120  False  False       False         False  False           False   False   \n",
              "121  False  False       False         False  False           False   False   \n",
              "122  False  False       False         False  False           False   False   \n",
              "123  False  False       False         False  False           False   False   \n",
              "124  False  False       False         False  False           False   False   \n",
              "\n",
              "     increment_code  white_id  white_rating  black_id  black_rating  moves  \\\n",
              "0             False     False         False     False         False  False   \n",
              "1             False     False         False     False         False  False   \n",
              "2             False     False         False     False         False  False   \n",
              "3             False     False         False     False         False  False   \n",
              "4             False     False         False     False         False  False   \n",
              "..              ...       ...           ...       ...           ...    ...   \n",
              "120           False     False         False     False         False  False   \n",
              "121           False     False         False     False         False  False   \n",
              "122           False     False         False     False         False  False   \n",
              "123           False     False         False     False         False  False   \n",
              "124           False     False         False     False         False  False   \n",
              "\n",
              "     opening_eco  opening_name  opening_ply  \n",
              "0          False         False        False  \n",
              "1          False         False        False  \n",
              "2          False         False        False  \n",
              "3          False         False        False  \n",
              "4          False         False        False  \n",
              "..           ...           ...          ...  \n",
              "120        False         False        False  \n",
              "121        False         False        False  \n",
              "122        False         False        False  \n",
              "123        False         False        False  \n",
              "124        False         False        False  \n",
              "\n",
              "[125 rows x 16 columns]"
            ],
            "text/html": [
              "\n",
              "  <div id=\"df-975a8ba5-af98-46b7-bdde-fcc0bf6dedb6\">\n",
              "    <div class=\"colab-df-container\">\n",
              "      <div>\n",
              "<style scoped>\n",
              "    .dataframe tbody tr th:only-of-type {\n",
              "        vertical-align: middle;\n",
              "    }\n",
              "\n",
              "    .dataframe tbody tr th {\n",
              "        vertical-align: top;\n",
              "    }\n",
              "\n",
              "    .dataframe thead th {\n",
              "        text-align: right;\n",
              "    }\n",
              "</style>\n",
              "<table border=\"1\" class=\"dataframe\">\n",
              "  <thead>\n",
              "    <tr style=\"text-align: right;\">\n",
              "      <th></th>\n",
              "      <th>id</th>\n",
              "      <th>rated</th>\n",
              "      <th>created_at</th>\n",
              "      <th>last_move_at</th>\n",
              "      <th>turns</th>\n",
              "      <th>victory_status</th>\n",
              "      <th>winner</th>\n",
              "      <th>increment_code</th>\n",
              "      <th>white_id</th>\n",
              "      <th>white_rating</th>\n",
              "      <th>black_id</th>\n",
              "      <th>black_rating</th>\n",
              "      <th>moves</th>\n",
              "      <th>opening_eco</th>\n",
              "      <th>opening_name</th>\n",
              "      <th>opening_ply</th>\n",
              "    </tr>\n",
              "  </thead>\n",
              "  <tbody>\n",
              "    <tr>\n",
              "      <th>0</th>\n",
              "      <td>False</td>\n",
              "      <td>False</td>\n",
              "      <td>False</td>\n",
              "      <td>False</td>\n",
              "      <td>False</td>\n",
              "      <td>False</td>\n",
              "      <td>False</td>\n",
              "      <td>False</td>\n",
              "      <td>False</td>\n",
              "      <td>False</td>\n",
              "      <td>False</td>\n",
              "      <td>False</td>\n",
              "      <td>False</td>\n",
              "      <td>False</td>\n",
              "      <td>False</td>\n",
              "      <td>False</td>\n",
              "    </tr>\n",
              "    <tr>\n",
              "      <th>1</th>\n",
              "      <td>False</td>\n",
              "      <td>True</td>\n",
              "      <td>True</td>\n",
              "      <td>False</td>\n",
              "      <td>False</td>\n",
              "      <td>False</td>\n",
              "      <td>False</td>\n",
              "      <td>False</td>\n",
              "      <td>False</td>\n",
              "      <td>False</td>\n",
              "      <td>False</td>\n",
              "      <td>False</td>\n",
              "      <td>False</td>\n",
              "      <td>False</td>\n",
              "      <td>False</td>\n",
              "      <td>False</td>\n",
              "    </tr>\n",
              "    <tr>\n",
              "      <th>2</th>\n",
              "      <td>False</td>\n",
              "      <td>False</td>\n",
              "      <td>False</td>\n",
              "      <td>False</td>\n",
              "      <td>False</td>\n",
              "      <td>False</td>\n",
              "      <td>False</td>\n",
              "      <td>False</td>\n",
              "      <td>False</td>\n",
              "      <td>False</td>\n",
              "      <td>False</td>\n",
              "      <td>False</td>\n",
              "      <td>False</td>\n",
              "      <td>False</td>\n",
              "      <td>False</td>\n",
              "      <td>False</td>\n",
              "    </tr>\n",
              "    <tr>\n",
              "      <th>3</th>\n",
              "      <td>False</td>\n",
              "      <td>False</td>\n",
              "      <td>False</td>\n",
              "      <td>False</td>\n",
              "      <td>False</td>\n",
              "      <td>False</td>\n",
              "      <td>False</td>\n",
              "      <td>False</td>\n",
              "      <td>False</td>\n",
              "      <td>False</td>\n",
              "      <td>False</td>\n",
              "      <td>False</td>\n",
              "      <td>False</td>\n",
              "      <td>False</td>\n",
              "      <td>False</td>\n",
              "      <td>False</td>\n",
              "    </tr>\n",
              "    <tr>\n",
              "      <th>4</th>\n",
              "      <td>False</td>\n",
              "      <td>False</td>\n",
              "      <td>False</td>\n",
              "      <td>False</td>\n",
              "      <td>False</td>\n",
              "      <td>False</td>\n",
              "      <td>False</td>\n",
              "      <td>False</td>\n",
              "      <td>False</td>\n",
              "      <td>False</td>\n",
              "      <td>False</td>\n",
              "      <td>False</td>\n",
              "      <td>False</td>\n",
              "      <td>False</td>\n",
              "      <td>False</td>\n",
              "      <td>False</td>\n",
              "    </tr>\n",
              "    <tr>\n",
              "      <th>...</th>\n",
              "      <td>...</td>\n",
              "      <td>...</td>\n",
              "      <td>...</td>\n",
              "      <td>...</td>\n",
              "      <td>...</td>\n",
              "      <td>...</td>\n",
              "      <td>...</td>\n",
              "      <td>...</td>\n",
              "      <td>...</td>\n",
              "      <td>...</td>\n",
              "      <td>...</td>\n",
              "      <td>...</td>\n",
              "      <td>...</td>\n",
              "      <td>...</td>\n",
              "      <td>...</td>\n",
              "      <td>...</td>\n",
              "    </tr>\n",
              "    <tr>\n",
              "      <th>120</th>\n",
              "      <td>False</td>\n",
              "      <td>False</td>\n",
              "      <td>False</td>\n",
              "      <td>False</td>\n",
              "      <td>False</td>\n",
              "      <td>False</td>\n",
              "      <td>False</td>\n",
              "      <td>False</td>\n",
              "      <td>False</td>\n",
              "      <td>False</td>\n",
              "      <td>False</td>\n",
              "      <td>False</td>\n",
              "      <td>False</td>\n",
              "      <td>False</td>\n",
              "      <td>False</td>\n",
              "      <td>False</td>\n",
              "    </tr>\n",
              "    <tr>\n",
              "      <th>121</th>\n",
              "      <td>False</td>\n",
              "      <td>False</td>\n",
              "      <td>False</td>\n",
              "      <td>False</td>\n",
              "      <td>False</td>\n",
              "      <td>False</td>\n",
              "      <td>False</td>\n",
              "      <td>False</td>\n",
              "      <td>False</td>\n",
              "      <td>False</td>\n",
              "      <td>False</td>\n",
              "      <td>False</td>\n",
              "      <td>False</td>\n",
              "      <td>False</td>\n",
              "      <td>False</td>\n",
              "      <td>False</td>\n",
              "    </tr>\n",
              "    <tr>\n",
              "      <th>122</th>\n",
              "      <td>False</td>\n",
              "      <td>False</td>\n",
              "      <td>False</td>\n",
              "      <td>False</td>\n",
              "      <td>False</td>\n",
              "      <td>False</td>\n",
              "      <td>False</td>\n",
              "      <td>False</td>\n",
              "      <td>False</td>\n",
              "      <td>False</td>\n",
              "      <td>False</td>\n",
              "      <td>False</td>\n",
              "      <td>False</td>\n",
              "      <td>False</td>\n",
              "      <td>False</td>\n",
              "      <td>False</td>\n",
              "    </tr>\n",
              "    <tr>\n",
              "      <th>123</th>\n",
              "      <td>False</td>\n",
              "      <td>False</td>\n",
              "      <td>False</td>\n",
              "      <td>False</td>\n",
              "      <td>False</td>\n",
              "      <td>False</td>\n",
              "      <td>False</td>\n",
              "      <td>False</td>\n",
              "      <td>False</td>\n",
              "      <td>False</td>\n",
              "      <td>False</td>\n",
              "      <td>False</td>\n",
              "      <td>False</td>\n",
              "      <td>False</td>\n",
              "      <td>False</td>\n",
              "      <td>False</td>\n",
              "    </tr>\n",
              "    <tr>\n",
              "      <th>124</th>\n",
              "      <td>False</td>\n",
              "      <td>False</td>\n",
              "      <td>False</td>\n",
              "      <td>False</td>\n",
              "      <td>False</td>\n",
              "      <td>False</td>\n",
              "      <td>False</td>\n",
              "      <td>False</td>\n",
              "      <td>False</td>\n",
              "      <td>False</td>\n",
              "      <td>False</td>\n",
              "      <td>False</td>\n",
              "      <td>False</td>\n",
              "      <td>False</td>\n",
              "      <td>False</td>\n",
              "      <td>False</td>\n",
              "    </tr>\n",
              "  </tbody>\n",
              "</table>\n",
              "<p>125 rows × 16 columns</p>\n",
              "</div>\n",
              "      <button class=\"colab-df-convert\" onclick=\"convertToInteractive('df-975a8ba5-af98-46b7-bdde-fcc0bf6dedb6')\"\n",
              "              title=\"Convert this dataframe to an interactive table.\"\n",
              "              style=\"display:none;\">\n",
              "        \n",
              "  <svg xmlns=\"http://www.w3.org/2000/svg\" height=\"24px\"viewBox=\"0 0 24 24\"\n",
              "       width=\"24px\">\n",
              "    <path d=\"M0 0h24v24H0V0z\" fill=\"none\"/>\n",
              "    <path d=\"M18.56 5.44l.94 2.06.94-2.06 2.06-.94-2.06-.94-.94-2.06-.94 2.06-2.06.94zm-11 1L8.5 8.5l.94-2.06 2.06-.94-2.06-.94L8.5 2.5l-.94 2.06-2.06.94zm10 10l.94 2.06.94-2.06 2.06-.94-2.06-.94-.94-2.06-.94 2.06-2.06.94z\"/><path d=\"M17.41 7.96l-1.37-1.37c-.4-.4-.92-.59-1.43-.59-.52 0-1.04.2-1.43.59L10.3 9.45l-7.72 7.72c-.78.78-.78 2.05 0 2.83L4 21.41c.39.39.9.59 1.41.59.51 0 1.02-.2 1.41-.59l7.78-7.78 2.81-2.81c.8-.78.8-2.07 0-2.86zM5.41 20L4 18.59l7.72-7.72 1.47 1.35L5.41 20z\"/>\n",
              "  </svg>\n",
              "      </button>\n",
              "      \n",
              "  <style>\n",
              "    .colab-df-container {\n",
              "      display:flex;\n",
              "      flex-wrap:wrap;\n",
              "      gap: 12px;\n",
              "    }\n",
              "\n",
              "    .colab-df-convert {\n",
              "      background-color: #E8F0FE;\n",
              "      border: none;\n",
              "      border-radius: 50%;\n",
              "      cursor: pointer;\n",
              "      display: none;\n",
              "      fill: #1967D2;\n",
              "      height: 32px;\n",
              "      padding: 0 0 0 0;\n",
              "      width: 32px;\n",
              "    }\n",
              "\n",
              "    .colab-df-convert:hover {\n",
              "      background-color: #E2EBFA;\n",
              "      box-shadow: 0px 1px 2px rgba(60, 64, 67, 0.3), 0px 1px 3px 1px rgba(60, 64, 67, 0.15);\n",
              "      fill: #174EA6;\n",
              "    }\n",
              "\n",
              "    [theme=dark] .colab-df-convert {\n",
              "      background-color: #3B4455;\n",
              "      fill: #D2E3FC;\n",
              "    }\n",
              "\n",
              "    [theme=dark] .colab-df-convert:hover {\n",
              "      background-color: #434B5C;\n",
              "      box-shadow: 0px 1px 3px 1px rgba(0, 0, 0, 0.15);\n",
              "      filter: drop-shadow(0px 1px 2px rgba(0, 0, 0, 0.3));\n",
              "      fill: #FFFFFF;\n",
              "    }\n",
              "  </style>\n",
              "\n",
              "      <script>\n",
              "        const buttonEl =\n",
              "          document.querySelector('#df-975a8ba5-af98-46b7-bdde-fcc0bf6dedb6 button.colab-df-convert');\n",
              "        buttonEl.style.display =\n",
              "          google.colab.kernel.accessAllowed ? 'block' : 'none';\n",
              "\n",
              "        async function convertToInteractive(key) {\n",
              "          const element = document.querySelector('#df-975a8ba5-af98-46b7-bdde-fcc0bf6dedb6');\n",
              "          const dataTable =\n",
              "            await google.colab.kernel.invokeFunction('convertToInteractive',\n",
              "                                                     [key], {});\n",
              "          if (!dataTable) return;\n",
              "\n",
              "          const docLinkHtml = 'Like what you see? Visit the ' +\n",
              "            '<a target=\"_blank\" href=https://colab.research.google.com/notebooks/data_table.ipynb>data table notebook</a>'\n",
              "            + ' to learn more about interactive tables.';\n",
              "          element.innerHTML = '';\n",
              "          dataTable['output_type'] = 'display_data';\n",
              "          await google.colab.output.renderOutput(dataTable, element);\n",
              "          const docLink = document.createElement('div');\n",
              "          docLink.innerHTML = docLinkHtml;\n",
              "          element.appendChild(docLink);\n",
              "        }\n",
              "      </script>\n",
              "    </div>\n",
              "  </div>\n",
              "  "
            ]
          },
          "metadata": {},
          "execution_count": 4
        }
      ]
    },
    {
      "cell_type": "code",
      "source": [
        "df.isnull().sum()"
      ],
      "metadata": {
        "colab": {
          "base_uri": "https://localhost:8080/"
        },
        "id": "VlWE6rQkguoP",
        "outputId": "de5cdaf0-ba34-4d5a-e2d8-e805df4da895"
      },
      "execution_count": null,
      "outputs": [
        {
          "output_type": "execute_result",
          "data": {
            "text/plain": [
              "id                0\n",
              "rated             5\n",
              "created_at        2\n",
              "last_move_at      0\n",
              "turns             0\n",
              "victory_status    0\n",
              "winner            4\n",
              "increment_code    0\n",
              "white_id          0\n",
              "white_rating      3\n",
              "black_id          0\n",
              "black_rating      2\n",
              "moves             0\n",
              "opening_eco       0\n",
              "opening_name      0\n",
              "opening_ply       0\n",
              "dtype: int64"
            ]
          },
          "metadata": {},
          "execution_count": 5
        }
      ]
    },
    {
      "cell_type": "code",
      "source": [
        "##Stratégie 1 de cleaning : le drop\n",
        "df_drop = df.dropna(thresh=3)\n",
        "df_drop.info()"
      ],
      "metadata": {
        "colab": {
          "base_uri": "https://localhost:8080/"
        },
        "id": "bT4sXIJ7emVV",
        "outputId": "a72626a1-0b7d-442c-ad37-a5ba54486398"
      },
      "execution_count": null,
      "outputs": [
        {
          "output_type": "stream",
          "name": "stdout",
          "text": [
            "<class 'pandas.core.frame.DataFrame'>\n",
            "Int64Index: 125 entries, 0 to 124\n",
            "Data columns (total 16 columns):\n",
            " #   Column          Non-Null Count  Dtype  \n",
            "---  ------          --------------  -----  \n",
            " 0   id              125 non-null    object \n",
            " 1   rated           120 non-null    object \n",
            " 2   created_at      123 non-null    float64\n",
            " 3   last_move_at    125 non-null    float64\n",
            " 4   turns           125 non-null    int64  \n",
            " 5   victory_status  125 non-null    object \n",
            " 6   winner          121 non-null    object \n",
            " 7   increment_code  125 non-null    object \n",
            " 8   white_id        125 non-null    object \n",
            " 9   white_rating    122 non-null    float64\n",
            " 10  black_id        125 non-null    object \n",
            " 11  black_rating    123 non-null    float64\n",
            " 12  moves           125 non-null    object \n",
            " 13  opening_eco     125 non-null    object \n",
            " 14  opening_name    125 non-null    object \n",
            " 15  opening_ply     125 non-null    int64  \n",
            "dtypes: float64(4), int64(2), object(10)\n",
            "memory usage: 16.6+ KB\n"
          ]
        }
      ]
    },
    {
      "cell_type": "code",
      "source": [
        "#Stratégie 2 : Remplir avec la fonction fillna\n",
        "df['rated'].value_counts()"
      ],
      "metadata": {
        "colab": {
          "base_uri": "https://localhost:8080/"
        },
        "id": "KleespK6mrZI",
        "outputId": "19920e5e-78d6-4350-a844-86395e306342"
      },
      "execution_count": null,
      "outputs": [
        {
          "output_type": "execute_result",
          "data": {
            "text/plain": [
              "True     87\n",
              "False    33\n",
              "Name: rated, dtype: int64"
            ]
          },
          "metadata": {},
          "execution_count": 7
        }
      ]
    },
    {
      "cell_type": "code",
      "source": [
        "df['rated'].fillna(True,inplace=True)\n",
        "df['rated'].value_counts()"
      ],
      "metadata": {
        "colab": {
          "base_uri": "https://localhost:8080/"
        },
        "id": "3o5pWagAir8x",
        "outputId": "ca646d99-a7fe-4fba-b84c-eedf78cf6daa"
      },
      "execution_count": null,
      "outputs": [
        {
          "output_type": "execute_result",
          "data": {
            "text/plain": [
              "True     92\n",
              "False    33\n",
              "Name: rated, dtype: int64"
            ]
          },
          "metadata": {},
          "execution_count": 8
        }
      ]
    },
    {
      "cell_type": "code",
      "source": [
        "df.isnull().sum()"
      ],
      "metadata": {
        "colab": {
          "base_uri": "https://localhost:8080/"
        },
        "id": "FS-DrV9-oaNI",
        "outputId": "951df61d-2664-40d2-da9a-442bf051fa85"
      },
      "execution_count": null,
      "outputs": [
        {
          "output_type": "execute_result",
          "data": {
            "text/plain": [
              "id                0\n",
              "rated             0\n",
              "created_at        2\n",
              "last_move_at      0\n",
              "turns             0\n",
              "victory_status    0\n",
              "winner            4\n",
              "increment_code    0\n",
              "white_id          0\n",
              "white_rating      3\n",
              "black_id          0\n",
              "black_rating      2\n",
              "moves             0\n",
              "opening_eco       0\n",
              "opening_name      0\n",
              "opening_ply       0\n",
              "dtype: int64"
            ]
          },
          "metadata": {},
          "execution_count": 9
        }
      ]
    },
    {
      "cell_type": "code",
      "source": [
        "df['created_at'].describe()"
      ],
      "metadata": {
        "colab": {
          "base_uri": "https://localhost:8080/"
        },
        "id": "Inmw0zi0osir",
        "outputId": "a94c4c1a-0c63-4e3a-ae3e-7520084ba3ff"
      },
      "execution_count": null,
      "outputs": [
        {
          "output_type": "execute_result",
          "data": {
            "text/plain": [
              "count    1.230000e+02\n",
              "mean     1.502988e+12\n",
              "std      1.551620e+09\n",
              "min      1.497890e+12\n",
              "25%      1.502950e+12\n",
              "50%      1.503540e+12\n",
              "75%      1.503710e+12\n",
              "max      1.504260e+12\n",
              "Name: created_at, dtype: float64"
            ]
          },
          "metadata": {},
          "execution_count": 10
        }
      ]
    },
    {
      "cell_type": "code",
      "source": [
        "df['created_at'].mean()"
      ],
      "metadata": {
        "colab": {
          "base_uri": "https://localhost:8080/"
        },
        "id": "cn7G_SvZqKat",
        "outputId": "d35bdad9-e176-48fd-8695-2205801f47ff"
      },
      "execution_count": null,
      "outputs": [
        {
          "output_type": "execute_result",
          "data": {
            "text/plain": [
              "1502987886178.8618"
            ]
          },
          "metadata": {},
          "execution_count": 11
        }
      ]
    },
    {
      "cell_type": "code",
      "source": [
        "df['created_at'].median()"
      ],
      "metadata": {
        "colab": {
          "base_uri": "https://localhost:8080/"
        },
        "id": "CoZ6qgImqt8C",
        "outputId": "57eb1f50-c078-4b5d-c574-8c5677dbc13d"
      },
      "execution_count": null,
      "outputs": [
        {
          "output_type": "execute_result",
          "data": {
            "text/plain": [
              "1503540000000.0"
            ]
          },
          "metadata": {},
          "execution_count": 12
        }
      ]
    },
    {
      "cell_type": "code",
      "source": [
        "df['created_at'].mode()"
      ],
      "metadata": {
        "colab": {
          "base_uri": "https://localhost:8080/"
        },
        "id": "DR5wApuBqwrS",
        "outputId": "6fb9d9e9-bdbf-4b78-b593-7e6d621d1156"
      },
      "execution_count": null,
      "outputs": [
        {
          "output_type": "execute_result",
          "data": {
            "text/plain": [
              "0    1.503540e+12\n",
              "dtype: float64"
            ]
          },
          "metadata": {},
          "execution_count": 13
        }
      ]
    },
    {
      "cell_type": "code",
      "source": [
        "df['created_at'].fillna(df['created_at'].median(),inplace=True)\n",
        "df.isnull().sum()"
      ],
      "metadata": {
        "colab": {
          "base_uri": "https://localhost:8080/"
        },
        "id": "GHDjvFAdqx2-",
        "outputId": "1599a7a5-d9e0-47b7-f35b-b4e9a792312b"
      },
      "execution_count": null,
      "outputs": [
        {
          "output_type": "execute_result",
          "data": {
            "text/plain": [
              "id                0\n",
              "rated             0\n",
              "created_at        0\n",
              "last_move_at      0\n",
              "turns             0\n",
              "victory_status    0\n",
              "winner            4\n",
              "increment_code    0\n",
              "white_id          0\n",
              "white_rating      3\n",
              "black_id          0\n",
              "black_rating      2\n",
              "moves             0\n",
              "opening_eco       0\n",
              "opening_name      0\n",
              "opening_ply       0\n",
              "dtype: int64"
            ]
          },
          "metadata": {},
          "execution_count": 14
        }
      ]
    },
    {
      "cell_type": "code",
      "source": [
        "df['winner'].value_counts()\n",
        "df['winner'].fillna(\"white\",inplace=True)\n",
        "df.isnull().sum()"
      ],
      "metadata": {
        "colab": {
          "base_uri": "https://localhost:8080/"
        },
        "id": "HixkOwk0tD8A",
        "outputId": "708df40f-8a92-4057-ed44-075be2f0e436"
      },
      "execution_count": null,
      "outputs": [
        {
          "output_type": "execute_result",
          "data": {
            "text/plain": [
              "id                0\n",
              "rated             0\n",
              "created_at        0\n",
              "last_move_at      0\n",
              "turns             0\n",
              "victory_status    0\n",
              "winner            0\n",
              "increment_code    0\n",
              "white_id          0\n",
              "white_rating      3\n",
              "black_id          0\n",
              "black_rating      2\n",
              "moves             0\n",
              "opening_eco       0\n",
              "opening_name      0\n",
              "opening_ply       0\n",
              "dtype: int64"
            ]
          },
          "metadata": {},
          "execution_count": 15
        }
      ]
    },
    {
      "cell_type": "code",
      "source": [
        "df['white_rating'].describe()"
      ],
      "metadata": {
        "colab": {
          "base_uri": "https://localhost:8080/"
        },
        "id": "7wrGwgWrutcG",
        "outputId": "0c8a98d5-1f45-4cf4-d31d-3a5caf53fd98"
      },
      "execution_count": null,
      "outputs": [
        {
          "output_type": "execute_result",
          "data": {
            "text/plain": [
              "count     122.000000\n",
              "mean     1515.688525\n",
              "std       294.470503\n",
              "min       976.000000\n",
              "25%      1352.000000\n",
              "50%      1521.000000\n",
              "75%      1720.750000\n",
              "max      2449.000000\n",
              "Name: white_rating, dtype: float64"
            ]
          },
          "metadata": {},
          "execution_count": 16
        }
      ]
    },
    {
      "cell_type": "code",
      "source": [
        "df['white_rating'].fillna('1500',inplace=True)"
      ],
      "metadata": {
        "id": "-aZGyTzVwWjF"
      },
      "execution_count": null,
      "outputs": []
    },
    {
      "cell_type": "code",
      "source": [
        "df['white_rating'].describe()"
      ],
      "metadata": {
        "colab": {
          "base_uri": "https://localhost:8080/"
        },
        "id": "ySl8eRgryeQe",
        "outputId": "147064dd-d8a4-4af5-9616-4dcbfedf8231"
      },
      "execution_count": null,
      "outputs": [
        {
          "output_type": "execute_result",
          "data": {
            "text/plain": [
              "count      125.0\n",
              "unique      94.0\n",
              "top       1500.0\n",
              "freq        11.0\n",
              "Name: white_rating, dtype: float64"
            ]
          },
          "metadata": {},
          "execution_count": 18
        }
      ]
    },
    {
      "cell_type": "code",
      "source": [
        "df['black_rating'].fillna('1500',inplace=True)"
      ],
      "metadata": {
        "id": "cEOrUUKMye5W"
      },
      "execution_count": null,
      "outputs": []
    },
    {
      "cell_type": "code",
      "source": [
        "df['black_rating'].describe()"
      ],
      "metadata": {
        "id": "HUwLAkbYNNb7",
        "outputId": "0e0a18ad-01ad-4b8f-e949-7bb58afe84bc",
        "colab": {
          "base_uri": "https://localhost:8080/"
        }
      },
      "execution_count": null,
      "outputs": [
        {
          "output_type": "execute_result",
          "data": {
            "text/plain": [
              "count     125.0\n",
              "unique     93.0\n",
              "top       978.0\n",
              "freq       14.0\n",
              "Name: black_rating, dtype: float64"
            ]
          },
          "metadata": {},
          "execution_count": 20
        }
      ]
    },
    {
      "cell_type": "code",
      "source": [
        "df.isnull().sum()"
      ],
      "metadata": {
        "id": "6bEWdbEpNP8R",
        "colab": {
          "base_uri": "https://localhost:8080/"
        },
        "outputId": "66338fb1-1244-4964-9543-07dd6a534b72"
      },
      "execution_count": null,
      "outputs": [
        {
          "output_type": "execute_result",
          "data": {
            "text/plain": [
              "id                0\n",
              "rated             0\n",
              "created_at        0\n",
              "last_move_at      0\n",
              "turns             0\n",
              "victory_status    0\n",
              "winner            0\n",
              "increment_code    0\n",
              "white_id          0\n",
              "white_rating      0\n",
              "black_id          0\n",
              "black_rating      0\n",
              "moves             0\n",
              "opening_eco       0\n",
              "opening_name      0\n",
              "opening_ply       0\n",
              "dtype: int64"
            ]
          },
          "metadata": {},
          "execution_count": 21
        }
      ]
    },
    {
      "cell_type": "code",
      "source": [
        "df['opening_name'].describe()"
      ],
      "metadata": {
        "colab": {
          "base_uri": "https://localhost:8080/"
        },
        "id": "UNzu1ZU7QRL8",
        "outputId": "e0b0ccc7-d9f7-452e-fcb6-70e0590b1aaf"
      },
      "execution_count": null,
      "outputs": [
        {
          "output_type": "execute_result",
          "data": {
            "text/plain": [
              "count                                  125\n",
              "unique                                  82\n",
              "top       Queen's Pawn Game: London System\n",
              "freq                                     9\n",
              "Name: opening_name, dtype: object"
            ]
          },
          "metadata": {},
          "execution_count": 22
        }
      ]
    },
    {
      "cell_type": "code",
      "source": [
        "top = df['opening_name'].describe().top\n",
        "top"
      ],
      "metadata": {
        "colab": {
          "base_uri": "https://localhost:8080/",
          "height": 35
        },
        "id": "727QERpNQZVI",
        "outputId": "5ed7f8ff-2e05-40af-df39-b28523d8960e"
      },
      "execution_count": null,
      "outputs": [
        {
          "output_type": "execute_result",
          "data": {
            "text/plain": [
              "\"Queen's Pawn Game: London System\""
            ],
            "application/vnd.google.colaboratory.intrinsic+json": {
              "type": "string"
            }
          },
          "metadata": {},
          "execution_count": 23
        }
      ]
    },
    {
      "cell_type": "code",
      "source": [
        "df['opening_name'].fillna(top,inplace=True)"
      ],
      "metadata": {
        "id": "0xV-k9LJRqLr"
      },
      "execution_count": null,
      "outputs": []
    },
    {
      "cell_type": "code",
      "source": [
        "df['opening_ply'].describe()"
      ],
      "metadata": {
        "colab": {
          "base_uri": "https://localhost:8080/"
        },
        "id": "_zlflkPeSZxZ",
        "outputId": "a3166084-9b93-471b-dde9-f5046dd09b15"
      },
      "execution_count": null,
      "outputs": [
        {
          "output_type": "execute_result",
          "data": {
            "text/plain": [
              "count    125.000000\n",
              "mean       4.824000\n",
              "std        2.932202\n",
              "min        1.000000\n",
              "25%        3.000000\n",
              "50%        4.000000\n",
              "75%        6.000000\n",
              "max       17.000000\n",
              "Name: opening_ply, dtype: float64"
            ]
          },
          "metadata": {},
          "execution_count": 25
        }
      ]
    },
    {
      "cell_type": "code",
      "source": [
        "print(df['opening_ply'].mean())\n",
        "print(df['opening_ply'].median())\n",
        "print(df['opening_ply'].mode())"
      ],
      "metadata": {
        "colab": {
          "base_uri": "https://localhost:8080/"
        },
        "id": "nRjP3lftT_2-",
        "outputId": "247aa1b9-b7db-417b-ce3e-b3c8e0b03ced"
      },
      "execution_count": null,
      "outputs": [
        {
          "output_type": "stream",
          "name": "stdout",
          "text": [
            "4.824\n",
            "4.0\n",
            "0    3\n",
            "dtype: int64\n"
          ]
        }
      ]
    },
    {
      "cell_type": "code",
      "source": [
        "df['opening_ply'].fillna(df['opening_ply'].median(),inplace=True)"
      ],
      "metadata": {
        "id": "e1H38sIfUuNL"
      },
      "execution_count": null,
      "outputs": []
    },
    {
      "cell_type": "code",
      "source": [
        "df.isnull().sum()"
      ],
      "metadata": {
        "colab": {
          "base_uri": "https://localhost:8080/"
        },
        "id": "90S30UE_VUbA",
        "outputId": "a707c063-0b38-4410-8ddd-c09049b7e581"
      },
      "execution_count": null,
      "outputs": [
        {
          "output_type": "execute_result",
          "data": {
            "text/plain": [
              "id                0\n",
              "rated             0\n",
              "created_at        0\n",
              "last_move_at      0\n",
              "turns             0\n",
              "victory_status    0\n",
              "winner            0\n",
              "increment_code    0\n",
              "white_id          0\n",
              "white_rating      0\n",
              "black_id          0\n",
              "black_rating      0\n",
              "moves             0\n",
              "opening_eco       0\n",
              "opening_name      0\n",
              "opening_ply       0\n",
              "dtype: int64"
            ]
          },
          "metadata": {},
          "execution_count": 28
        }
      ]
    },
    {
      "cell_type": "code",
      "source": [
        "##Comment changer le type d'une colonne\n",
        "df['white_rating'] = df['white_rating'].astype('int64')\n",
        "df['black_rating'] = df['black_rating'].astype('int64')"
      ],
      "metadata": {
        "id": "tS1KIfZgVWzr"
      },
      "execution_count": null,
      "outputs": []
    },
    {
      "cell_type": "code",
      "source": [
        "##Feature engineering : créer de nouvelles caractéristiques à partir \n",
        "## des données précédentes\n",
        "df['dif_rating'] = df['white_rating']-df['black_rating']"
      ],
      "metadata": {
        "id": "TIcQj3TdkYZt"
      },
      "execution_count": null,
      "outputs": []
    },
    {
      "cell_type": "code",
      "source": [
        "df['dif_rating']"
      ],
      "metadata": {
        "colab": {
          "base_uri": "https://localhost:8080/"
        },
        "id": "2D2ySQT7Zxq8",
        "outputId": "1dce81ce-fa5e-4fa0-832a-dc5302caf6cc"
      },
      "execution_count": null,
      "outputs": [
        {
          "output_type": "execute_result",
          "data": {
            "text/plain": [
              "0      309\n",
              "1       61\n",
              "2       -4\n",
              "3      -15\n",
              "4       54\n",
              "      ... \n",
              "120    330\n",
              "121    781\n",
              "122     25\n",
              "123    294\n",
              "124    149\n",
              "Name: dif_rating, Length: 125, dtype: int64"
            ]
          },
          "metadata": {},
          "execution_count": 31
        }
      ]
    },
    {
      "cell_type": "code",
      "source": [
        "df['dif_rating'] = abs(df['dif_rating'])"
      ],
      "metadata": {
        "id": "9RC1TKLYqgXj"
      },
      "execution_count": null,
      "outputs": []
    },
    {
      "cell_type": "code",
      "source": [
        "df['dif_rating']"
      ],
      "metadata": {
        "colab": {
          "base_uri": "https://localhost:8080/"
        },
        "id": "tttNF-XCrhWO",
        "outputId": "c0e2820e-c0b3-4857-8983-45b9847d99aa"
      },
      "execution_count": null,
      "outputs": [
        {
          "output_type": "execute_result",
          "data": {
            "text/plain": [
              "0      309\n",
              "1       61\n",
              "2        4\n",
              "3       15\n",
              "4       54\n",
              "      ... \n",
              "120    330\n",
              "121    781\n",
              "122     25\n",
              "123    294\n",
              "124    149\n",
              "Name: dif_rating, Length: 125, dtype: int64"
            ]
          },
          "metadata": {},
          "execution_count": 33
        }
      ]
    },
    {
      "cell_type": "code",
      "source": [
        "##Conversion du catégorique en numérique\n",
        "df.head(2)"
      ],
      "metadata": {
        "colab": {
          "base_uri": "https://localhost:8080/",
          "height": 489
        },
        "id": "iuhmL6sdrjFe",
        "outputId": "71cf5599-81ce-44a2-e600-4d430f7b9341"
      },
      "execution_count": null,
      "outputs": [
        {
          "output_type": "execute_result",
          "data": {
            "text/plain": [
              "         id  rated    created_at  last_move_at  turns victory_status winner  \\\n",
              "0  TZJHLljE  False  1.504210e+12  1.504210e+12     13      outoftime  white   \n",
              "1  l1NXvwaE   True  1.503540e+12  1.504130e+12     16         resign  black   \n",
              "\n",
              "  increment_code  white_id  white_rating   black_id  black_rating  \\\n",
              "0           15+2  bourgris          1500       a-00          1191   \n",
              "1           5+10      a-00          1322  skinnerua          1261   \n",
              "\n",
              "                                               moves opening_eco  \\\n",
              "0  d4 d5 c4 c6 cxd5 e6 dxe6 fxe6 Nf3 Bb4+ Nc3 Ba5...         D10   \n",
              "1  d4 Nc6 e4 e5 f4 f6 dxe5 fxe5 fxe5 Nxe5 Qd4 Nc6...         B00   \n",
              "\n",
              "                             opening_name  opening_ply  dif_rating  \n",
              "0        Slav Defense: Exchange Variation            5         309  \n",
              "1  Nimzowitsch Defense: Kennedy Variation            4          61  "
            ],
            "text/html": [
              "\n",
              "  <div id=\"df-b94081fa-f3de-4c48-b533-d957e8dcf36c\">\n",
              "    <div class=\"colab-df-container\">\n",
              "      <div>\n",
              "<style scoped>\n",
              "    .dataframe tbody tr th:only-of-type {\n",
              "        vertical-align: middle;\n",
              "    }\n",
              "\n",
              "    .dataframe tbody tr th {\n",
              "        vertical-align: top;\n",
              "    }\n",
              "\n",
              "    .dataframe thead th {\n",
              "        text-align: right;\n",
              "    }\n",
              "</style>\n",
              "<table border=\"1\" class=\"dataframe\">\n",
              "  <thead>\n",
              "    <tr style=\"text-align: right;\">\n",
              "      <th></th>\n",
              "      <th>id</th>\n",
              "      <th>rated</th>\n",
              "      <th>created_at</th>\n",
              "      <th>last_move_at</th>\n",
              "      <th>turns</th>\n",
              "      <th>victory_status</th>\n",
              "      <th>winner</th>\n",
              "      <th>increment_code</th>\n",
              "      <th>white_id</th>\n",
              "      <th>white_rating</th>\n",
              "      <th>black_id</th>\n",
              "      <th>black_rating</th>\n",
              "      <th>moves</th>\n",
              "      <th>opening_eco</th>\n",
              "      <th>opening_name</th>\n",
              "      <th>opening_ply</th>\n",
              "      <th>dif_rating</th>\n",
              "    </tr>\n",
              "  </thead>\n",
              "  <tbody>\n",
              "    <tr>\n",
              "      <th>0</th>\n",
              "      <td>TZJHLljE</td>\n",
              "      <td>False</td>\n",
              "      <td>1.504210e+12</td>\n",
              "      <td>1.504210e+12</td>\n",
              "      <td>13</td>\n",
              "      <td>outoftime</td>\n",
              "      <td>white</td>\n",
              "      <td>15+2</td>\n",
              "      <td>bourgris</td>\n",
              "      <td>1500</td>\n",
              "      <td>a-00</td>\n",
              "      <td>1191</td>\n",
              "      <td>d4 d5 c4 c6 cxd5 e6 dxe6 fxe6 Nf3 Bb4+ Nc3 Ba5...</td>\n",
              "      <td>D10</td>\n",
              "      <td>Slav Defense: Exchange Variation</td>\n",
              "      <td>5</td>\n",
              "      <td>309</td>\n",
              "    </tr>\n",
              "    <tr>\n",
              "      <th>1</th>\n",
              "      <td>l1NXvwaE</td>\n",
              "      <td>True</td>\n",
              "      <td>1.503540e+12</td>\n",
              "      <td>1.504130e+12</td>\n",
              "      <td>16</td>\n",
              "      <td>resign</td>\n",
              "      <td>black</td>\n",
              "      <td>5+10</td>\n",
              "      <td>a-00</td>\n",
              "      <td>1322</td>\n",
              "      <td>skinnerua</td>\n",
              "      <td>1261</td>\n",
              "      <td>d4 Nc6 e4 e5 f4 f6 dxe5 fxe5 fxe5 Nxe5 Qd4 Nc6...</td>\n",
              "      <td>B00</td>\n",
              "      <td>Nimzowitsch Defense: Kennedy Variation</td>\n",
              "      <td>4</td>\n",
              "      <td>61</td>\n",
              "    </tr>\n",
              "  </tbody>\n",
              "</table>\n",
              "</div>\n",
              "      <button class=\"colab-df-convert\" onclick=\"convertToInteractive('df-b94081fa-f3de-4c48-b533-d957e8dcf36c')\"\n",
              "              title=\"Convert this dataframe to an interactive table.\"\n",
              "              style=\"display:none;\">\n",
              "        \n",
              "  <svg xmlns=\"http://www.w3.org/2000/svg\" height=\"24px\"viewBox=\"0 0 24 24\"\n",
              "       width=\"24px\">\n",
              "    <path d=\"M0 0h24v24H0V0z\" fill=\"none\"/>\n",
              "    <path d=\"M18.56 5.44l.94 2.06.94-2.06 2.06-.94-2.06-.94-.94-2.06-.94 2.06-2.06.94zm-11 1L8.5 8.5l.94-2.06 2.06-.94-2.06-.94L8.5 2.5l-.94 2.06-2.06.94zm10 10l.94 2.06.94-2.06 2.06-.94-2.06-.94-.94-2.06-.94 2.06-2.06.94z\"/><path d=\"M17.41 7.96l-1.37-1.37c-.4-.4-.92-.59-1.43-.59-.52 0-1.04.2-1.43.59L10.3 9.45l-7.72 7.72c-.78.78-.78 2.05 0 2.83L4 21.41c.39.39.9.59 1.41.59.51 0 1.02-.2 1.41-.59l7.78-7.78 2.81-2.81c.8-.78.8-2.07 0-2.86zM5.41 20L4 18.59l7.72-7.72 1.47 1.35L5.41 20z\"/>\n",
              "  </svg>\n",
              "      </button>\n",
              "      \n",
              "  <style>\n",
              "    .colab-df-container {\n",
              "      display:flex;\n",
              "      flex-wrap:wrap;\n",
              "      gap: 12px;\n",
              "    }\n",
              "\n",
              "    .colab-df-convert {\n",
              "      background-color: #E8F0FE;\n",
              "      border: none;\n",
              "      border-radius: 50%;\n",
              "      cursor: pointer;\n",
              "      display: none;\n",
              "      fill: #1967D2;\n",
              "      height: 32px;\n",
              "      padding: 0 0 0 0;\n",
              "      width: 32px;\n",
              "    }\n",
              "\n",
              "    .colab-df-convert:hover {\n",
              "      background-color: #E2EBFA;\n",
              "      box-shadow: 0px 1px 2px rgba(60, 64, 67, 0.3), 0px 1px 3px 1px rgba(60, 64, 67, 0.15);\n",
              "      fill: #174EA6;\n",
              "    }\n",
              "\n",
              "    [theme=dark] .colab-df-convert {\n",
              "      background-color: #3B4455;\n",
              "      fill: #D2E3FC;\n",
              "    }\n",
              "\n",
              "    [theme=dark] .colab-df-convert:hover {\n",
              "      background-color: #434B5C;\n",
              "      box-shadow: 0px 1px 3px 1px rgba(0, 0, 0, 0.15);\n",
              "      filter: drop-shadow(0px 1px 2px rgba(0, 0, 0, 0.3));\n",
              "      fill: #FFFFFF;\n",
              "    }\n",
              "  </style>\n",
              "\n",
              "      <script>\n",
              "        const buttonEl =\n",
              "          document.querySelector('#df-b94081fa-f3de-4c48-b533-d957e8dcf36c button.colab-df-convert');\n",
              "        buttonEl.style.display =\n",
              "          google.colab.kernel.accessAllowed ? 'block' : 'none';\n",
              "\n",
              "        async function convertToInteractive(key) {\n",
              "          const element = document.querySelector('#df-b94081fa-f3de-4c48-b533-d957e8dcf36c');\n",
              "          const dataTable =\n",
              "            await google.colab.kernel.invokeFunction('convertToInteractive',\n",
              "                                                     [key], {});\n",
              "          if (!dataTable) return;\n",
              "\n",
              "          const docLinkHtml = 'Like what you see? Visit the ' +\n",
              "            '<a target=\"_blank\" href=https://colab.research.google.com/notebooks/data_table.ipynb>data table notebook</a>'\n",
              "            + ' to learn more about interactive tables.';\n",
              "          element.innerHTML = '';\n",
              "          dataTable['output_type'] = 'display_data';\n",
              "          await google.colab.output.renderOutput(dataTable, element);\n",
              "          const docLink = document.createElement('div');\n",
              "          docLink.innerHTML = docLinkHtml;\n",
              "          element.appendChild(docLink);\n",
              "        }\n",
              "      </script>\n",
              "    </div>\n",
              "  </div>\n",
              "  "
            ]
          },
          "metadata": {},
          "execution_count": 34
        }
      ]
    },
    {
      "cell_type": "code",
      "source": [
        "df[\"rated\"]"
      ],
      "metadata": {
        "colab": {
          "base_uri": "https://localhost:8080/"
        },
        "id": "5LpPhlmwtwnn",
        "outputId": "5742534c-8896-4cfa-8db2-2f92384f62c8"
      },
      "execution_count": null,
      "outputs": [
        {
          "output_type": "execute_result",
          "data": {
            "text/plain": [
              "0      False\n",
              "1       True\n",
              "2       True\n",
              "3       True\n",
              "4       True\n",
              "       ...  \n",
              "120     True\n",
              "121     True\n",
              "122     True\n",
              "123     True\n",
              "124     True\n",
              "Name: rated, Length: 125, dtype: bool"
            ]
          },
          "metadata": {},
          "execution_count": 35
        }
      ]
    },
    {
      "cell_type": "code",
      "source": [
        "##Label encoding de la colonne Rated\n",
        "rated = {\n",
        "    False:0,\n",
        "    True:1\n",
        "}\n",
        "df['rated'] = df['rated'].replace(rated)"
      ],
      "metadata": {
        "id": "GnfZ1NCOtTkm"
      },
      "execution_count": null,
      "outputs": []
    },
    {
      "cell_type": "code",
      "source": [
        "df['rated']"
      ],
      "metadata": {
        "colab": {
          "base_uri": "https://localhost:8080/"
        },
        "id": "CwERQb58usXQ",
        "outputId": "c9b8b575-4579-4acd-9b79-06f73d426b12"
      },
      "execution_count": null,
      "outputs": [
        {
          "output_type": "execute_result",
          "data": {
            "text/plain": [
              "0      0\n",
              "1      1\n",
              "2      1\n",
              "3      1\n",
              "4      1\n",
              "      ..\n",
              "120    1\n",
              "121    1\n",
              "122    1\n",
              "123    1\n",
              "124    1\n",
              "Name: rated, Length: 125, dtype: int64"
            ]
          },
          "metadata": {},
          "execution_count": 37
        }
      ]
    },
    {
      "cell_type": "code",
      "source": [
        "##Labelisation avec sklearn\n",
        "from sklearn.preprocessing import LabelEncoder\n",
        "encoder = LabelEncoder()\n",
        "df['victory_status']= encoder.fit_transform(df['victory_status'])\n",
        "df['victory_status']"
      ],
      "metadata": {
        "colab": {
          "base_uri": "https://localhost:8080/"
        },
        "id": "jMbFbp4wutgL",
        "outputId": "cac6fa73-a1c6-472a-c008-395060dcb7a2"
      },
      "execution_count": null,
      "outputs": [
        {
          "output_type": "execute_result",
          "data": {
            "text/plain": [
              "0      2\n",
              "1      3\n",
              "2      1\n",
              "3      1\n",
              "4      1\n",
              "      ..\n",
              "120    3\n",
              "121    1\n",
              "122    2\n",
              "123    1\n",
              "124    1\n",
              "Name: victory_status, Length: 125, dtype: int64"
            ]
          },
          "metadata": {},
          "execution_count": 38
        }
      ]
    },
    {
      "cell_type": "code",
      "source": [
        "encoder.classes_"
      ],
      "metadata": {
        "colab": {
          "base_uri": "https://localhost:8080/"
        },
        "id": "V7fkN5FrxjYB",
        "outputId": "5aa73519-5dec-44bb-9748-d6c482aefa05"
      },
      "execution_count": null,
      "outputs": [
        {
          "output_type": "execute_result",
          "data": {
            "text/plain": [
              "array(['draw', 'mate', 'outoftime', 'resign'], dtype=object)"
            ]
          },
          "metadata": {},
          "execution_count": 39
        }
      ]
    },
    {
      "cell_type": "code",
      "source": [
        "df['winner'].value_counts()"
      ],
      "metadata": {
        "colab": {
          "base_uri": "https://localhost:8080/"
        },
        "id": "YSDZ70DnwYdG",
        "outputId": "9553a7ce-65a4-4d2e-cad7-aa58a954107d"
      },
      "execution_count": null,
      "outputs": [
        {
          "output_type": "execute_result",
          "data": {
            "text/plain": [
              "white    71\n",
              "black    51\n",
              "draw      3\n",
              "Name: winner, dtype: int64"
            ]
          },
          "metadata": {},
          "execution_count": 40
        }
      ]
    },
    {
      "cell_type": "code",
      "source": [
        "##One-Hot encoding\n",
        "one_hot = pd.get_dummies(df['winner'])\n",
        "df = df.drop('winner',axis=1)\n",
        "df = df.join(one_hot)\n",
        "df"
      ],
      "metadata": {
        "colab": {
          "base_uri": "https://localhost:8080/",
          "height": 1000
        },
        "id": "S3aduveb0fI9",
        "outputId": "753ab243-4054-438a-c9be-f6eca72f0049"
      },
      "execution_count": null,
      "outputs": [
        {
          "output_type": "execute_result",
          "data": {
            "text/plain": [
              "           id  rated    created_at  last_move_at  turns  victory_status  \\\n",
              "0    TZJHLljE      0  1.504210e+12  1.504210e+12     13               2   \n",
              "1    l1NXvwaE      1  1.503540e+12  1.504130e+12     16               3   \n",
              "2    mIICvQHh      1  1.504130e+12  1.504130e+12     61               1   \n",
              "3    kWKvrqYL      1  1.504110e+12  1.504110e+12     61               1   \n",
              "4    9tXo1AUZ      1  1.504030e+12  1.504030e+12     95               1   \n",
              "..        ...    ...           ...           ...    ...             ...   \n",
              "120  XRuQPSzH      1  1.503580e+12  1.503580e+12     50               3   \n",
              "121  XPZikam7      1  1.503500e+12  1.503500e+12     59               1   \n",
              "122  5SNh53F9      1  1.504080e+12  1.504080e+12     26               2   \n",
              "123  ezdEKpqG      1  1.504080e+12  1.504080e+12     23               1   \n",
              "124  WyQjriEX      1  1.503960e+12  1.503960e+12    118               1   \n",
              "\n",
              "    increment_code       white_id  white_rating      black_id  black_rating  \\\n",
              "0             15+2       bourgris          1500          a-00          1191   \n",
              "1             5+10           a-00          1322     skinnerua          1261   \n",
              "2             5+10         ischia          1496          a-00          1500   \n",
              "3             20+0  daniamurashov          1439  adivanov2009          1454   \n",
              "4             30+3      nik221107          1523  adivanov2009          1469   \n",
              "..             ...            ...           ...           ...           ...   \n",
              "120           10+0    chess-brahs          2036          cdvh          1706   \n",
              "121           10+0           cdvh          1706        dashy1           925   \n",
              "122          15+15  mosheaugustyn          1244        sassou          1219   \n",
              "123          15+15         sassou          1215   memoryberat           921   \n",
              "124          15+15         fatmat          1350        sassou          1201   \n",
              "\n",
              "                                                 moves opening_eco  \\\n",
              "0    d4 d5 c4 c6 cxd5 e6 dxe6 fxe6 Nf3 Bb4+ Nc3 Ba5...         D10   \n",
              "1    d4 Nc6 e4 e5 f4 f6 dxe5 fxe5 fxe5 Nxe5 Qd4 Nc6...         B00   \n",
              "2    e4 e5 d3 d6 Be3 c6 Be2 b5 Nd2 a5 a4 c5 axb5 Nc...         C20   \n",
              "3    d4 d5 Nf3 Bf5 Nc3 Nf6 Bf4 Ng4 e3 Nc6 Be2 Qd7 O...         D02   \n",
              "4    e4 e5 Nf3 d6 d4 Nc6 d5 Nb4 a3 Na6 Nc3 Be7 b4 N...         C41   \n",
              "..                                                 ...         ...   \n",
              "120  Nf3 d5 g3 c5 Bg2 Nc6 d3 Nf6 O-O e5 Nc3 d4 Ne4 ...         A08   \n",
              "121  d4 d5 Nf3 Nf6 Bf4 Nc6 e3 Bf5 Bb5 e6 Ne5 Bb4+ c...         D02   \n",
              "122  d4 d6 e4 Nc6 d5 Ne5 Be2 e6 c4 exd5 cxd5 c6 dxc...         B00   \n",
              "123  e4 e5 Nf3 Nc6 Bc4 Bb4 c3 Bc5 b4 Bb6 d3 Nf6 Ng5...         C50   \n",
              "124  e4 Nf6 e5 Nd5 d4 e6 c3 Be7 Nf3 d6 Bb5+ c6 Ba4 ...         B03   \n",
              "\n",
              "                               opening_name  opening_ply  dif_rating  black  \\\n",
              "0          Slav Defense: Exchange Variation            5         309      0   \n",
              "1    Nimzowitsch Defense: Kennedy Variation            4          61      1   \n",
              "2     King's Pawn Game: Leonardis Variation            3           4      0   \n",
              "3    Queen's Pawn Game: Zukertort Variation            3          15      0   \n",
              "4                          Philidor Defense            5          54      0   \n",
              "..                                      ...          ...         ...    ...   \n",
              "120  King's Indian Attack: French Variation            6         330      1   \n",
              "121        Queen's Pawn Game: London System            5         781      0   \n",
              "122  Nimzowitsch Defense: Mikenas Variation            4          25      1   \n",
              "123                            Italian Game            5         294      0   \n",
              "124                     Alekhine Defense #2            5         149      1   \n",
              "\n",
              "     draw  white  \n",
              "0       0      1  \n",
              "1       0      0  \n",
              "2       0      1  \n",
              "3       0      1  \n",
              "4       0      1  \n",
              "..    ...    ...  \n",
              "120     0      0  \n",
              "121     0      1  \n",
              "122     0      0  \n",
              "123     0      1  \n",
              "124     0      0  \n",
              "\n",
              "[125 rows x 19 columns]"
            ],
            "text/html": [
              "\n",
              "  <div id=\"df-e6ae0f38-36c7-400e-949a-77c4e6634d07\">\n",
              "    <div class=\"colab-df-container\">\n",
              "      <div>\n",
              "<style scoped>\n",
              "    .dataframe tbody tr th:only-of-type {\n",
              "        vertical-align: middle;\n",
              "    }\n",
              "\n",
              "    .dataframe tbody tr th {\n",
              "        vertical-align: top;\n",
              "    }\n",
              "\n",
              "    .dataframe thead th {\n",
              "        text-align: right;\n",
              "    }\n",
              "</style>\n",
              "<table border=\"1\" class=\"dataframe\">\n",
              "  <thead>\n",
              "    <tr style=\"text-align: right;\">\n",
              "      <th></th>\n",
              "      <th>id</th>\n",
              "      <th>rated</th>\n",
              "      <th>created_at</th>\n",
              "      <th>last_move_at</th>\n",
              "      <th>turns</th>\n",
              "      <th>victory_status</th>\n",
              "      <th>increment_code</th>\n",
              "      <th>white_id</th>\n",
              "      <th>white_rating</th>\n",
              "      <th>black_id</th>\n",
              "      <th>black_rating</th>\n",
              "      <th>moves</th>\n",
              "      <th>opening_eco</th>\n",
              "      <th>opening_name</th>\n",
              "      <th>opening_ply</th>\n",
              "      <th>dif_rating</th>\n",
              "      <th>black</th>\n",
              "      <th>draw</th>\n",
              "      <th>white</th>\n",
              "    </tr>\n",
              "  </thead>\n",
              "  <tbody>\n",
              "    <tr>\n",
              "      <th>0</th>\n",
              "      <td>TZJHLljE</td>\n",
              "      <td>0</td>\n",
              "      <td>1.504210e+12</td>\n",
              "      <td>1.504210e+12</td>\n",
              "      <td>13</td>\n",
              "      <td>2</td>\n",
              "      <td>15+2</td>\n",
              "      <td>bourgris</td>\n",
              "      <td>1500</td>\n",
              "      <td>a-00</td>\n",
              "      <td>1191</td>\n",
              "      <td>d4 d5 c4 c6 cxd5 e6 dxe6 fxe6 Nf3 Bb4+ Nc3 Ba5...</td>\n",
              "      <td>D10</td>\n",
              "      <td>Slav Defense: Exchange Variation</td>\n",
              "      <td>5</td>\n",
              "      <td>309</td>\n",
              "      <td>0</td>\n",
              "      <td>0</td>\n",
              "      <td>1</td>\n",
              "    </tr>\n",
              "    <tr>\n",
              "      <th>1</th>\n",
              "      <td>l1NXvwaE</td>\n",
              "      <td>1</td>\n",
              "      <td>1.503540e+12</td>\n",
              "      <td>1.504130e+12</td>\n",
              "      <td>16</td>\n",
              "      <td>3</td>\n",
              "      <td>5+10</td>\n",
              "      <td>a-00</td>\n",
              "      <td>1322</td>\n",
              "      <td>skinnerua</td>\n",
              "      <td>1261</td>\n",
              "      <td>d4 Nc6 e4 e5 f4 f6 dxe5 fxe5 fxe5 Nxe5 Qd4 Nc6...</td>\n",
              "      <td>B00</td>\n",
              "      <td>Nimzowitsch Defense: Kennedy Variation</td>\n",
              "      <td>4</td>\n",
              "      <td>61</td>\n",
              "      <td>1</td>\n",
              "      <td>0</td>\n",
              "      <td>0</td>\n",
              "    </tr>\n",
              "    <tr>\n",
              "      <th>2</th>\n",
              "      <td>mIICvQHh</td>\n",
              "      <td>1</td>\n",
              "      <td>1.504130e+12</td>\n",
              "      <td>1.504130e+12</td>\n",
              "      <td>61</td>\n",
              "      <td>1</td>\n",
              "      <td>5+10</td>\n",
              "      <td>ischia</td>\n",
              "      <td>1496</td>\n",
              "      <td>a-00</td>\n",
              "      <td>1500</td>\n",
              "      <td>e4 e5 d3 d6 Be3 c6 Be2 b5 Nd2 a5 a4 c5 axb5 Nc...</td>\n",
              "      <td>C20</td>\n",
              "      <td>King's Pawn Game: Leonardis Variation</td>\n",
              "      <td>3</td>\n",
              "      <td>4</td>\n",
              "      <td>0</td>\n",
              "      <td>0</td>\n",
              "      <td>1</td>\n",
              "    </tr>\n",
              "    <tr>\n",
              "      <th>3</th>\n",
              "      <td>kWKvrqYL</td>\n",
              "      <td>1</td>\n",
              "      <td>1.504110e+12</td>\n",
              "      <td>1.504110e+12</td>\n",
              "      <td>61</td>\n",
              "      <td>1</td>\n",
              "      <td>20+0</td>\n",
              "      <td>daniamurashov</td>\n",
              "      <td>1439</td>\n",
              "      <td>adivanov2009</td>\n",
              "      <td>1454</td>\n",
              "      <td>d4 d5 Nf3 Bf5 Nc3 Nf6 Bf4 Ng4 e3 Nc6 Be2 Qd7 O...</td>\n",
              "      <td>D02</td>\n",
              "      <td>Queen's Pawn Game: Zukertort Variation</td>\n",
              "      <td>3</td>\n",
              "      <td>15</td>\n",
              "      <td>0</td>\n",
              "      <td>0</td>\n",
              "      <td>1</td>\n",
              "    </tr>\n",
              "    <tr>\n",
              "      <th>4</th>\n",
              "      <td>9tXo1AUZ</td>\n",
              "      <td>1</td>\n",
              "      <td>1.504030e+12</td>\n",
              "      <td>1.504030e+12</td>\n",
              "      <td>95</td>\n",
              "      <td>1</td>\n",
              "      <td>30+3</td>\n",
              "      <td>nik221107</td>\n",
              "      <td>1523</td>\n",
              "      <td>adivanov2009</td>\n",
              "      <td>1469</td>\n",
              "      <td>e4 e5 Nf3 d6 d4 Nc6 d5 Nb4 a3 Na6 Nc3 Be7 b4 N...</td>\n",
              "      <td>C41</td>\n",
              "      <td>Philidor Defense</td>\n",
              "      <td>5</td>\n",
              "      <td>54</td>\n",
              "      <td>0</td>\n",
              "      <td>0</td>\n",
              "      <td>1</td>\n",
              "    </tr>\n",
              "    <tr>\n",
              "      <th>...</th>\n",
              "      <td>...</td>\n",
              "      <td>...</td>\n",
              "      <td>...</td>\n",
              "      <td>...</td>\n",
              "      <td>...</td>\n",
              "      <td>...</td>\n",
              "      <td>...</td>\n",
              "      <td>...</td>\n",
              "      <td>...</td>\n",
              "      <td>...</td>\n",
              "      <td>...</td>\n",
              "      <td>...</td>\n",
              "      <td>...</td>\n",
              "      <td>...</td>\n",
              "      <td>...</td>\n",
              "      <td>...</td>\n",
              "      <td>...</td>\n",
              "      <td>...</td>\n",
              "      <td>...</td>\n",
              "    </tr>\n",
              "    <tr>\n",
              "      <th>120</th>\n",
              "      <td>XRuQPSzH</td>\n",
              "      <td>1</td>\n",
              "      <td>1.503580e+12</td>\n",
              "      <td>1.503580e+12</td>\n",
              "      <td>50</td>\n",
              "      <td>3</td>\n",
              "      <td>10+0</td>\n",
              "      <td>chess-brahs</td>\n",
              "      <td>2036</td>\n",
              "      <td>cdvh</td>\n",
              "      <td>1706</td>\n",
              "      <td>Nf3 d5 g3 c5 Bg2 Nc6 d3 Nf6 O-O e5 Nc3 d4 Ne4 ...</td>\n",
              "      <td>A08</td>\n",
              "      <td>King's Indian Attack: French Variation</td>\n",
              "      <td>6</td>\n",
              "      <td>330</td>\n",
              "      <td>1</td>\n",
              "      <td>0</td>\n",
              "      <td>0</td>\n",
              "    </tr>\n",
              "    <tr>\n",
              "      <th>121</th>\n",
              "      <td>XPZikam7</td>\n",
              "      <td>1</td>\n",
              "      <td>1.503500e+12</td>\n",
              "      <td>1.503500e+12</td>\n",
              "      <td>59</td>\n",
              "      <td>1</td>\n",
              "      <td>10+0</td>\n",
              "      <td>cdvh</td>\n",
              "      <td>1706</td>\n",
              "      <td>dashy1</td>\n",
              "      <td>925</td>\n",
              "      <td>d4 d5 Nf3 Nf6 Bf4 Nc6 e3 Bf5 Bb5 e6 Ne5 Bb4+ c...</td>\n",
              "      <td>D02</td>\n",
              "      <td>Queen's Pawn Game: London System</td>\n",
              "      <td>5</td>\n",
              "      <td>781</td>\n",
              "      <td>0</td>\n",
              "      <td>0</td>\n",
              "      <td>1</td>\n",
              "    </tr>\n",
              "    <tr>\n",
              "      <th>122</th>\n",
              "      <td>5SNh53F9</td>\n",
              "      <td>1</td>\n",
              "      <td>1.504080e+12</td>\n",
              "      <td>1.504080e+12</td>\n",
              "      <td>26</td>\n",
              "      <td>2</td>\n",
              "      <td>15+15</td>\n",
              "      <td>mosheaugustyn</td>\n",
              "      <td>1244</td>\n",
              "      <td>sassou</td>\n",
              "      <td>1219</td>\n",
              "      <td>d4 d6 e4 Nc6 d5 Ne5 Be2 e6 c4 exd5 cxd5 c6 dxc...</td>\n",
              "      <td>B00</td>\n",
              "      <td>Nimzowitsch Defense: Mikenas Variation</td>\n",
              "      <td>4</td>\n",
              "      <td>25</td>\n",
              "      <td>1</td>\n",
              "      <td>0</td>\n",
              "      <td>0</td>\n",
              "    </tr>\n",
              "    <tr>\n",
              "      <th>123</th>\n",
              "      <td>ezdEKpqG</td>\n",
              "      <td>1</td>\n",
              "      <td>1.504080e+12</td>\n",
              "      <td>1.504080e+12</td>\n",
              "      <td>23</td>\n",
              "      <td>1</td>\n",
              "      <td>15+15</td>\n",
              "      <td>sassou</td>\n",
              "      <td>1215</td>\n",
              "      <td>memoryberat</td>\n",
              "      <td>921</td>\n",
              "      <td>e4 e5 Nf3 Nc6 Bc4 Bb4 c3 Bc5 b4 Bb6 d3 Nf6 Ng5...</td>\n",
              "      <td>C50</td>\n",
              "      <td>Italian Game</td>\n",
              "      <td>5</td>\n",
              "      <td>294</td>\n",
              "      <td>0</td>\n",
              "      <td>0</td>\n",
              "      <td>1</td>\n",
              "    </tr>\n",
              "    <tr>\n",
              "      <th>124</th>\n",
              "      <td>WyQjriEX</td>\n",
              "      <td>1</td>\n",
              "      <td>1.503960e+12</td>\n",
              "      <td>1.503960e+12</td>\n",
              "      <td>118</td>\n",
              "      <td>1</td>\n",
              "      <td>15+15</td>\n",
              "      <td>fatmat</td>\n",
              "      <td>1350</td>\n",
              "      <td>sassou</td>\n",
              "      <td>1201</td>\n",
              "      <td>e4 Nf6 e5 Nd5 d4 e6 c3 Be7 Nf3 d6 Bb5+ c6 Ba4 ...</td>\n",
              "      <td>B03</td>\n",
              "      <td>Alekhine Defense #2</td>\n",
              "      <td>5</td>\n",
              "      <td>149</td>\n",
              "      <td>1</td>\n",
              "      <td>0</td>\n",
              "      <td>0</td>\n",
              "    </tr>\n",
              "  </tbody>\n",
              "</table>\n",
              "<p>125 rows × 19 columns</p>\n",
              "</div>\n",
              "      <button class=\"colab-df-convert\" onclick=\"convertToInteractive('df-e6ae0f38-36c7-400e-949a-77c4e6634d07')\"\n",
              "              title=\"Convert this dataframe to an interactive table.\"\n",
              "              style=\"display:none;\">\n",
              "        \n",
              "  <svg xmlns=\"http://www.w3.org/2000/svg\" height=\"24px\"viewBox=\"0 0 24 24\"\n",
              "       width=\"24px\">\n",
              "    <path d=\"M0 0h24v24H0V0z\" fill=\"none\"/>\n",
              "    <path d=\"M18.56 5.44l.94 2.06.94-2.06 2.06-.94-2.06-.94-.94-2.06-.94 2.06-2.06.94zm-11 1L8.5 8.5l.94-2.06 2.06-.94-2.06-.94L8.5 2.5l-.94 2.06-2.06.94zm10 10l.94 2.06.94-2.06 2.06-.94-2.06-.94-.94-2.06-.94 2.06-2.06.94z\"/><path d=\"M17.41 7.96l-1.37-1.37c-.4-.4-.92-.59-1.43-.59-.52 0-1.04.2-1.43.59L10.3 9.45l-7.72 7.72c-.78.78-.78 2.05 0 2.83L4 21.41c.39.39.9.59 1.41.59.51 0 1.02-.2 1.41-.59l7.78-7.78 2.81-2.81c.8-.78.8-2.07 0-2.86zM5.41 20L4 18.59l7.72-7.72 1.47 1.35L5.41 20z\"/>\n",
              "  </svg>\n",
              "      </button>\n",
              "      \n",
              "  <style>\n",
              "    .colab-df-container {\n",
              "      display:flex;\n",
              "      flex-wrap:wrap;\n",
              "      gap: 12px;\n",
              "    }\n",
              "\n",
              "    .colab-df-convert {\n",
              "      background-color: #E8F0FE;\n",
              "      border: none;\n",
              "      border-radius: 50%;\n",
              "      cursor: pointer;\n",
              "      display: none;\n",
              "      fill: #1967D2;\n",
              "      height: 32px;\n",
              "      padding: 0 0 0 0;\n",
              "      width: 32px;\n",
              "    }\n",
              "\n",
              "    .colab-df-convert:hover {\n",
              "      background-color: #E2EBFA;\n",
              "      box-shadow: 0px 1px 2px rgba(60, 64, 67, 0.3), 0px 1px 3px 1px rgba(60, 64, 67, 0.15);\n",
              "      fill: #174EA6;\n",
              "    }\n",
              "\n",
              "    [theme=dark] .colab-df-convert {\n",
              "      background-color: #3B4455;\n",
              "      fill: #D2E3FC;\n",
              "    }\n",
              "\n",
              "    [theme=dark] .colab-df-convert:hover {\n",
              "      background-color: #434B5C;\n",
              "      box-shadow: 0px 1px 3px 1px rgba(0, 0, 0, 0.15);\n",
              "      filter: drop-shadow(0px 1px 2px rgba(0, 0, 0, 0.3));\n",
              "      fill: #FFFFFF;\n",
              "    }\n",
              "  </style>\n",
              "\n",
              "      <script>\n",
              "        const buttonEl =\n",
              "          document.querySelector('#df-e6ae0f38-36c7-400e-949a-77c4e6634d07 button.colab-df-convert');\n",
              "        buttonEl.style.display =\n",
              "          google.colab.kernel.accessAllowed ? 'block' : 'none';\n",
              "\n",
              "        async function convertToInteractive(key) {\n",
              "          const element = document.querySelector('#df-e6ae0f38-36c7-400e-949a-77c4e6634d07');\n",
              "          const dataTable =\n",
              "            await google.colab.kernel.invokeFunction('convertToInteractive',\n",
              "                                                     [key], {});\n",
              "          if (!dataTable) return;\n",
              "\n",
              "          const docLinkHtml = 'Like what you see? Visit the ' +\n",
              "            '<a target=\"_blank\" href=https://colab.research.google.com/notebooks/data_table.ipynb>data table notebook</a>'\n",
              "            + ' to learn more about interactive tables.';\n",
              "          element.innerHTML = '';\n",
              "          dataTable['output_type'] = 'display_data';\n",
              "          await google.colab.output.renderOutput(dataTable, element);\n",
              "          const docLink = document.createElement('div');\n",
              "          docLink.innerHTML = docLinkHtml;\n",
              "          element.appendChild(docLink);\n",
              "        }\n",
              "      </script>\n",
              "    </div>\n",
              "  </div>\n",
              "  "
            ]
          },
          "metadata": {},
          "execution_count": 41
        }
      ]
    },
    {
      "cell_type": "markdown",
      "source": [
        "##Feature Selection\n"
      ],
      "metadata": {
        "id": "EeWlQFw1MSBt"
      }
    },
    {
      "cell_type": "code",
      "source": [
        "df2 = df.drop(columns=[\"id\",'white_id','black_id'])\n",
        "df2.head()"
      ],
      "metadata": {
        "id": "XYYl2fuf1Dxz",
        "colab": {
          "base_uri": "https://localhost:8080/"
        },
        "outputId": "5d2dfd23-dfc7-4a70-e575-1af20cd1153f"
      },
      "execution_count": null,
      "outputs": [
        {
          "output_type": "execute_result",
          "data": {
            "text/plain": [
              "   rated    created_at  last_move_at  turns  victory_status increment_code  \\\n",
              "0      0  1.504210e+12  1.504210e+12     13               2           15+2   \n",
              "1      1  1.503540e+12  1.504130e+12     16               3           5+10   \n",
              "2      1  1.504130e+12  1.504130e+12     61               1           5+10   \n",
              "3      1  1.504110e+12  1.504110e+12     61               1           20+0   \n",
              "4      1  1.504030e+12  1.504030e+12     95               1           30+3   \n",
              "\n",
              "   white_rating  black_rating  \\\n",
              "0          1500          1191   \n",
              "1          1322          1261   \n",
              "2          1496          1500   \n",
              "3          1439          1454   \n",
              "4          1523          1469   \n",
              "\n",
              "                                               moves opening_eco  \\\n",
              "0  d4 d5 c4 c6 cxd5 e6 dxe6 fxe6 Nf3 Bb4+ Nc3 Ba5...         D10   \n",
              "1  d4 Nc6 e4 e5 f4 f6 dxe5 fxe5 fxe5 Nxe5 Qd4 Nc6...         B00   \n",
              "2  e4 e5 d3 d6 Be3 c6 Be2 b5 Nd2 a5 a4 c5 axb5 Nc...         C20   \n",
              "3  d4 d5 Nf3 Bf5 Nc3 Nf6 Bf4 Ng4 e3 Nc6 Be2 Qd7 O...         D02   \n",
              "4  e4 e5 Nf3 d6 d4 Nc6 d5 Nb4 a3 Na6 Nc3 Be7 b4 N...         C41   \n",
              "\n",
              "                             opening_name  opening_ply  dif_rating  black  \\\n",
              "0        Slav Defense: Exchange Variation            5         309      0   \n",
              "1  Nimzowitsch Defense: Kennedy Variation            4          61      1   \n",
              "2   King's Pawn Game: Leonardis Variation            3           4      0   \n",
              "3  Queen's Pawn Game: Zukertort Variation            3          15      0   \n",
              "4                        Philidor Defense            5          54      0   \n",
              "\n",
              "   draw  white  \n",
              "0     0      1  \n",
              "1     0      0  \n",
              "2     0      1  \n",
              "3     0      1  \n",
              "4     0      1  "
            ],
            "text/html": [
              "\n",
              "  <div id=\"df-750b0b5d-4003-4585-a0d5-debf4ba53c97\">\n",
              "    <div class=\"colab-df-container\">\n",
              "      <div>\n",
              "<style scoped>\n",
              "    .dataframe tbody tr th:only-of-type {\n",
              "        vertical-align: middle;\n",
              "    }\n",
              "\n",
              "    .dataframe tbody tr th {\n",
              "        vertical-align: top;\n",
              "    }\n",
              "\n",
              "    .dataframe thead th {\n",
              "        text-align: right;\n",
              "    }\n",
              "</style>\n",
              "<table border=\"1\" class=\"dataframe\">\n",
              "  <thead>\n",
              "    <tr style=\"text-align: right;\">\n",
              "      <th></th>\n",
              "      <th>rated</th>\n",
              "      <th>created_at</th>\n",
              "      <th>last_move_at</th>\n",
              "      <th>turns</th>\n",
              "      <th>victory_status</th>\n",
              "      <th>increment_code</th>\n",
              "      <th>white_rating</th>\n",
              "      <th>black_rating</th>\n",
              "      <th>moves</th>\n",
              "      <th>opening_eco</th>\n",
              "      <th>opening_name</th>\n",
              "      <th>opening_ply</th>\n",
              "      <th>dif_rating</th>\n",
              "      <th>black</th>\n",
              "      <th>draw</th>\n",
              "      <th>white</th>\n",
              "    </tr>\n",
              "  </thead>\n",
              "  <tbody>\n",
              "    <tr>\n",
              "      <th>0</th>\n",
              "      <td>0</td>\n",
              "      <td>1.504210e+12</td>\n",
              "      <td>1.504210e+12</td>\n",
              "      <td>13</td>\n",
              "      <td>2</td>\n",
              "      <td>15+2</td>\n",
              "      <td>1500</td>\n",
              "      <td>1191</td>\n",
              "      <td>d4 d5 c4 c6 cxd5 e6 dxe6 fxe6 Nf3 Bb4+ Nc3 Ba5...</td>\n",
              "      <td>D10</td>\n",
              "      <td>Slav Defense: Exchange Variation</td>\n",
              "      <td>5</td>\n",
              "      <td>309</td>\n",
              "      <td>0</td>\n",
              "      <td>0</td>\n",
              "      <td>1</td>\n",
              "    </tr>\n",
              "    <tr>\n",
              "      <th>1</th>\n",
              "      <td>1</td>\n",
              "      <td>1.503540e+12</td>\n",
              "      <td>1.504130e+12</td>\n",
              "      <td>16</td>\n",
              "      <td>3</td>\n",
              "      <td>5+10</td>\n",
              "      <td>1322</td>\n",
              "      <td>1261</td>\n",
              "      <td>d4 Nc6 e4 e5 f4 f6 dxe5 fxe5 fxe5 Nxe5 Qd4 Nc6...</td>\n",
              "      <td>B00</td>\n",
              "      <td>Nimzowitsch Defense: Kennedy Variation</td>\n",
              "      <td>4</td>\n",
              "      <td>61</td>\n",
              "      <td>1</td>\n",
              "      <td>0</td>\n",
              "      <td>0</td>\n",
              "    </tr>\n",
              "    <tr>\n",
              "      <th>2</th>\n",
              "      <td>1</td>\n",
              "      <td>1.504130e+12</td>\n",
              "      <td>1.504130e+12</td>\n",
              "      <td>61</td>\n",
              "      <td>1</td>\n",
              "      <td>5+10</td>\n",
              "      <td>1496</td>\n",
              "      <td>1500</td>\n",
              "      <td>e4 e5 d3 d6 Be3 c6 Be2 b5 Nd2 a5 a4 c5 axb5 Nc...</td>\n",
              "      <td>C20</td>\n",
              "      <td>King's Pawn Game: Leonardis Variation</td>\n",
              "      <td>3</td>\n",
              "      <td>4</td>\n",
              "      <td>0</td>\n",
              "      <td>0</td>\n",
              "      <td>1</td>\n",
              "    </tr>\n",
              "    <tr>\n",
              "      <th>3</th>\n",
              "      <td>1</td>\n",
              "      <td>1.504110e+12</td>\n",
              "      <td>1.504110e+12</td>\n",
              "      <td>61</td>\n",
              "      <td>1</td>\n",
              "      <td>20+0</td>\n",
              "      <td>1439</td>\n",
              "      <td>1454</td>\n",
              "      <td>d4 d5 Nf3 Bf5 Nc3 Nf6 Bf4 Ng4 e3 Nc6 Be2 Qd7 O...</td>\n",
              "      <td>D02</td>\n",
              "      <td>Queen's Pawn Game: Zukertort Variation</td>\n",
              "      <td>3</td>\n",
              "      <td>15</td>\n",
              "      <td>0</td>\n",
              "      <td>0</td>\n",
              "      <td>1</td>\n",
              "    </tr>\n",
              "    <tr>\n",
              "      <th>4</th>\n",
              "      <td>1</td>\n",
              "      <td>1.504030e+12</td>\n",
              "      <td>1.504030e+12</td>\n",
              "      <td>95</td>\n",
              "      <td>1</td>\n",
              "      <td>30+3</td>\n",
              "      <td>1523</td>\n",
              "      <td>1469</td>\n",
              "      <td>e4 e5 Nf3 d6 d4 Nc6 d5 Nb4 a3 Na6 Nc3 Be7 b4 N...</td>\n",
              "      <td>C41</td>\n",
              "      <td>Philidor Defense</td>\n",
              "      <td>5</td>\n",
              "      <td>54</td>\n",
              "      <td>0</td>\n",
              "      <td>0</td>\n",
              "      <td>1</td>\n",
              "    </tr>\n",
              "  </tbody>\n",
              "</table>\n",
              "</div>\n",
              "      <button class=\"colab-df-convert\" onclick=\"convertToInteractive('df-750b0b5d-4003-4585-a0d5-debf4ba53c97')\"\n",
              "              title=\"Convert this dataframe to an interactive table.\"\n",
              "              style=\"display:none;\">\n",
              "        \n",
              "  <svg xmlns=\"http://www.w3.org/2000/svg\" height=\"24px\"viewBox=\"0 0 24 24\"\n",
              "       width=\"24px\">\n",
              "    <path d=\"M0 0h24v24H0V0z\" fill=\"none\"/>\n",
              "    <path d=\"M18.56 5.44l.94 2.06.94-2.06 2.06-.94-2.06-.94-.94-2.06-.94 2.06-2.06.94zm-11 1L8.5 8.5l.94-2.06 2.06-.94-2.06-.94L8.5 2.5l-.94 2.06-2.06.94zm10 10l.94 2.06.94-2.06 2.06-.94-2.06-.94-.94-2.06-.94 2.06-2.06.94z\"/><path d=\"M17.41 7.96l-1.37-1.37c-.4-.4-.92-.59-1.43-.59-.52 0-1.04.2-1.43.59L10.3 9.45l-7.72 7.72c-.78.78-.78 2.05 0 2.83L4 21.41c.39.39.9.59 1.41.59.51 0 1.02-.2 1.41-.59l7.78-7.78 2.81-2.81c.8-.78.8-2.07 0-2.86zM5.41 20L4 18.59l7.72-7.72 1.47 1.35L5.41 20z\"/>\n",
              "  </svg>\n",
              "      </button>\n",
              "      \n",
              "  <style>\n",
              "    .colab-df-container {\n",
              "      display:flex;\n",
              "      flex-wrap:wrap;\n",
              "      gap: 12px;\n",
              "    }\n",
              "\n",
              "    .colab-df-convert {\n",
              "      background-color: #E8F0FE;\n",
              "      border: none;\n",
              "      border-radius: 50%;\n",
              "      cursor: pointer;\n",
              "      display: none;\n",
              "      fill: #1967D2;\n",
              "      height: 32px;\n",
              "      padding: 0 0 0 0;\n",
              "      width: 32px;\n",
              "    }\n",
              "\n",
              "    .colab-df-convert:hover {\n",
              "      background-color: #E2EBFA;\n",
              "      box-shadow: 0px 1px 2px rgba(60, 64, 67, 0.3), 0px 1px 3px 1px rgba(60, 64, 67, 0.15);\n",
              "      fill: #174EA6;\n",
              "    }\n",
              "\n",
              "    [theme=dark] .colab-df-convert {\n",
              "      background-color: #3B4455;\n",
              "      fill: #D2E3FC;\n",
              "    }\n",
              "\n",
              "    [theme=dark] .colab-df-convert:hover {\n",
              "      background-color: #434B5C;\n",
              "      box-shadow: 0px 1px 3px 1px rgba(0, 0, 0, 0.15);\n",
              "      filter: drop-shadow(0px 1px 2px rgba(0, 0, 0, 0.3));\n",
              "      fill: #FFFFFF;\n",
              "    }\n",
              "  </style>\n",
              "\n",
              "      <script>\n",
              "        const buttonEl =\n",
              "          document.querySelector('#df-750b0b5d-4003-4585-a0d5-debf4ba53c97 button.colab-df-convert');\n",
              "        buttonEl.style.display =\n",
              "          google.colab.kernel.accessAllowed ? 'block' : 'none';\n",
              "\n",
              "        async function convertToInteractive(key) {\n",
              "          const element = document.querySelector('#df-750b0b5d-4003-4585-a0d5-debf4ba53c97');\n",
              "          const dataTable =\n",
              "            await google.colab.kernel.invokeFunction('convertToInteractive',\n",
              "                                                     [key], {});\n",
              "          if (!dataTable) return;\n",
              "\n",
              "          const docLinkHtml = 'Like what you see? Visit the ' +\n",
              "            '<a target=\"_blank\" href=https://colab.research.google.com/notebooks/data_table.ipynb>data table notebook</a>'\n",
              "            + ' to learn more about interactive tables.';\n",
              "          element.innerHTML = '';\n",
              "          dataTable['output_type'] = 'display_data';\n",
              "          await google.colab.output.renderOutput(dataTable, element);\n",
              "          const docLink = document.createElement('div');\n",
              "          docLink.innerHTML = docLinkHtml;\n",
              "          element.appendChild(docLink);\n",
              "        }\n",
              "      </script>\n",
              "    </div>\n",
              "  </div>\n",
              "  "
            ]
          },
          "metadata": {},
          "execution_count": 42
        }
      ]
    },
    {
      "cell_type": "code",
      "source": [],
      "metadata": {
        "id": "0hL8nqHDMwTI"
      },
      "execution_count": null,
      "outputs": []
    },
    {
      "cell_type": "markdown",
      "source": [
        "#Visualisation des données\n"
      ],
      "metadata": {
        "id": "fs3HN8gzPhen"
      }
    },
    {
      "cell_type": "code",
      "source": [
        "import matplotlib.pyplot as plt\n",
        "import seaborn as sns\n"
      ],
      "metadata": {
        "id": "NXD4gLfLPlcZ"
      },
      "execution_count": null,
      "outputs": []
    },
    {
      "cell_type": "code",
      "source": [
        "#Simple plot\n",
        "rating_white = df['white_rating'].values\n",
        "plt.figure()\n",
        "plt.style.use('ggplot')\n",
        "plt.title('Rating of players A')\n",
        "plt.legend()\n",
        "plt.xlabel('Ranking')\n",
        "plt.ylabel('player')\n",
        "plt.plot(rating_white,range(len(rating_white)),'g*')\n",
        "plt.show()"
      ],
      "metadata": {
        "colab": {
          "base_uri": "https://localhost:8080/",
          "height": 316
        },
        "id": "7R0v-WHzQmDf",
        "outputId": "bde0eeec-5456-4b95-a9c0-729edc92e53b"
      },
      "execution_count": null,
      "outputs": [
        {
          "output_type": "stream",
          "name": "stderr",
          "text": [
            "No handles with labels found to put in legend.\n"
          ]
        },
        {
          "output_type": "display_data",
          "data": {
            "text/plain": [
              "<Figure size 432x288 with 1 Axes>"
            ],
            "image/png": "[encoded data removed]"
          },
          "metadata": {
            "needs_background": "light"
          }
        }
      ]
    },
    {
      "cell_type": "code",
      "source": [
        "#Simple plot\n",
        "rating_A = df['white_rating'].values\n",
        "rating_B = df['black_rating'].values\n",
        "plt.figure(figsize=(15,5))\n",
        "plt.style.use('ggplot')\n",
        "plt.title('Rating of players A')\n",
        "plt.xlabel('Ranking')\n",
        "plt.ylabel('player')\n",
        "plt.plot(rating_A,range(len(rating_A)),'g*',label='A-players')\n",
        "plt.plot(rating_B,range(len(rating_B)),'rx',label='B-players')\n",
        "plt.legend()\n",
        "plt.show()"
      ],
      "metadata": {
        "colab": {
          "base_uri": "https://localhost:8080/",
          "height": 333
        },
        "id": "C5oVsgoCSoJ-",
        "outputId": "08276071-783d-41f6-c1f2-73cbdde0a132"
      },
      "execution_count": null,
      "outputs": [
        {
          "output_type": "display_data",
          "data": {
            "text/plain": [
              "<Figure size 1080x360 with 1 Axes>"
            ],
            "image/png": "[encoded data removed]"
          },
          "metadata": {}
        }
      ]
    },
    {
      "cell_type": "code",
      "source": [
        "#Histogrammes\n",
        "dif_rating = df['dif_rating'].values\n",
        "plt.figure()\n",
        "plt.style.use('ggplot')\n",
        "plt.hist(dif_rating)\n",
        "plt.show()"
      ],
      "metadata": {
        "colab": {
          "base_uri": "https://localhost:8080/",
          "height": 265
        },
        "id": "ED95JyzyWMz3",
        "outputId": "42934397-a750-4e26-e4d4-8d0897590430"
      },
      "execution_count": null,
      "outputs": [
        {
          "output_type": "display_data",
          "data": {
            "text/plain": [
              "<Figure size 432x288 with 1 Axes>"
            ],
            "image/png": "[encoded data removed]"
          },
          "metadata": {}
        }
      ]
    },
    {
      "cell_type": "code",
      "source": [
        "plt.figure(figsize=(15,6))\n",
        "plt.subplot(1,2,1)\n",
        "plt.hist(rating_A)\n",
        "plt.title('Histogramme des ratings A')\n",
        "plt.subplot(1,2,2)\n",
        "plt.hist(rating_B)\n",
        "plt.title('Histogramme des ratings B')\n",
        "plt.show()"
      ],
      "metadata": {
        "colab": {
          "base_uri": "https://localhost:8080/",
          "height": 377
        },
        "id": "pedJbYovZLe9",
        "outputId": "35a28c97-8d9e-4257-b894-8ca01daca075"
      },
      "execution_count": null,
      "outputs": [
        {
          "output_type": "display_data",
          "data": {
            "text/plain": [
              "<Figure size 1080x432 with 2 Axes>"
            ],
            "image/png": "[encoded data removed]"
          },
          "metadata": {}
        }
      ]
    },
    {
      "cell_type": "code",
      "source": [
        "#Barplot\n",
        "plt.figure(figsize=(15,6))\n",
        "plt.subplot(1,2,1)\n",
        "plt.bar(['draw', 'mate', 'outoftime', 'resign'],height=df['victory_status'].value_counts())\n",
        "plt.title('Victory Status')\n",
        "plt.subplot(1,2,2)\n",
        "plt.bar(['False','True'],height=df['rated'].value_counts())\n",
        "plt.title('Partie classée')\n",
        "plt.show()"
      ],
      "metadata": {
        "colab": {
          "base_uri": "https://localhost:8080/",
          "height": 377
        },
        "id": "3Dt6XUOOauc4",
        "outputId": "ac5a11ef-bcaa-459a-f038-cfdd0214796a"
      },
      "execution_count": null,
      "outputs": [
        {
          "output_type": "display_data",
          "data": {
            "text/plain": [
              "<Figure size 1080x432 with 2 Axes>"
            ],
            "image/png": "[encoded data removed]"
          },
          "metadata": {}
        }
      ]
    },
    {
      "cell_type": "code",
      "source": [
        "#Boxplot.\n",
        "plt.figure(figsize=(15,5))\n",
        "plt.subplot(1,3,1)\n",
        "plt.boxplot(df['white_rating'].values)\n",
        "plt.subplot(1,3,2)\n",
        "plt.boxplot(df['dif_rating'].values)\n",
        "plt.subplot(1,3,3)\n",
        "plt.boxplot(df['black_rating'].values)\n",
        "plt.show()"
      ],
      "metadata": {
        "colab": {
          "base_uri": "https://localhost:8080/",
          "height": 305
        },
        "id": "PoyhGFYcpggu",
        "outputId": "8e4c255b-86bd-472b-af05-483493175837"
      },
      "execution_count": null,
      "outputs": [
        {
          "output_type": "display_data",
          "data": {
            "text/plain": [
              "<Figure size 1080x360 with 3 Axes>"
            ],
            "image/png": "[encoded data removed]"
          },
          "metadata": {}
        }
      ]
    },
    {
      "cell_type": "code",
      "source": [
        "###Travail pour la maison : Trouver comment éliminer les outliers.\n",
        "#étape 1: calculer le minimum et maximum\n",
        "import numpy as np\n",
        "quartile1 = np.percentile(df['white_rating'],25)\n",
        "quartile3 = np.percentile(df['white_rating'],75)\n",
        "print(quartile1)\n",
        "print(quartile3)\n",
        "iqr = quartile3 - quartile1\n",
        "upper = quartile3+ (1.5*iqr)\n",
        "lower = quartile1 - (1.5*iqr)\n",
        "\n",
        "print('iqr : {}, upper : {}, lower : {}'.format(iqr,upper,lower))\n",
        "#Identifier les outliers\n",
        "\n",
        "upper_outlier = np.where(df['white_rating']>= upper)\n",
        "lower_outlier = np.where(df['white_rating'] <= lower)\n",
        "print(upper_outlier)\n",
        "print(lower_outlier)\n",
        "#Retirer les outliers\n",
        "df.drop(upper_outlier[0],inplace=True)\n",
        "df.drop(lower_outlier[0],inplace=True)"
      ],
      "metadata": {
        "id": "-Qxa-SFqyybj",
        "colab": {
          "base_uri": "https://localhost:8080/"
        },
        "outputId": "6b3da5d9-0d14-41d9-b738-a1b50099eb85"
      },
      "execution_count": null,
      "outputs": [
        {
          "output_type": "stream",
          "name": "stdout",
          "text": [
            "1358.0\n",
            "1720.0\n",
            "iqr : 362.0, upper : 2263.0, lower : 815.0\n",
            "(array([39, 43, 48, 49]),)\n",
            "(array([], dtype=int64),)\n"
          ]
        }
      ]
    },
    {
      "cell_type": "code",
      "source": [
        "##Corrélation.\n",
        "\n",
        "##Coéficient de corrélation\n",
        "ech = df[['white_rating','black_rating','victory_status','dif_rating','white','black','draw']]\n",
        "corr = ech.corr()\n",
        "corr.style.background_gradient(cmap='coolwarm')\n"
      ],
      "metadata": {
        "colab": {
          "base_uri": "https://localhost:8080/",
          "height": 269
        },
        "id": "9mm6RJaC0QGI",
        "outputId": "2de2267c-fddb-43e1-96a2-a9a2cb501d59"
      },
      "execution_count": null,
      "outputs": [
        {
          "output_type": "execute_result",
          "data": {
            "text/plain": [
              "<pandas.io.formats.style.Styler at 0x7f51bd1aaf90>"
            ],
            "text/html": [
              "<style type=\"text/css\">\n",
              "#T_7a1f5_row0_col0, #T_7a1f5_row1_col1, #T_7a1f5_row2_col2, #T_7a1f5_row3_col3, #T_7a1f5_row4_col4, #T_7a1f5_row5_col5, #T_7a1f5_row6_col6 {\n",
              "  background-color: #b40426;\n",
              "  color: #f1f1f1;\n",
              "}\n",
              "#T_7a1f5_row0_col1, #T_7a1f5_row0_col5 {\n",
              "  background-color: #b2ccfb;\n",
              "  color: #000000;\n",
              "}\n",
              "#T_7a1f5_row0_col2 {\n",
              "  background-color: #a1c0ff;\n",
              "  color: #000000;\n",
              "}\n",
              "#T_7a1f5_row0_col3 {\n",
              "  background-color: #d7dce3;\n",
              "  color: #000000;\n",
              "}\n",
              "#T_7a1f5_row0_col4 {\n",
              "  background-color: #f5c4ac;\n",
              "  color: #000000;\n",
              "}\n",
              "#T_7a1f5_row0_col6 {\n",
              "  background-color: #88abfd;\n",
              "  color: #000000;\n",
              "}\n",
              "#T_7a1f5_row1_col0, #T_7a1f5_row2_col1, #T_7a1f5_row4_col3 {\n",
              "  background-color: #a5c3fe;\n",
              "  color: #000000;\n",
              "}\n",
              "#T_7a1f5_row1_col2 {\n",
              "  background-color: #afcafc;\n",
              "  color: #000000;\n",
              "}\n",
              "#T_7a1f5_row1_col3, #T_7a1f5_row2_col6, #T_7a1f5_row3_col1, #T_7a1f5_row4_col5, #T_7a1f5_row5_col0, #T_7a1f5_row5_col4, #T_7a1f5_row6_col2 {\n",
              "  background-color: #3b4cc0;\n",
              "  color: #f1f1f1;\n",
              "}\n",
              "#T_7a1f5_row1_col4 {\n",
              "  background-color: #bcd2f7;\n",
              "  color: #000000;\n",
              "}\n",
              "#T_7a1f5_row1_col5 {\n",
              "  background-color: #f2cab5;\n",
              "  color: #000000;\n",
              "}\n",
              "#T_7a1f5_row1_col6 {\n",
              "  background-color: #7ea1fa;\n",
              "  color: #f1f1f1;\n",
              "}\n",
              "#T_7a1f5_row2_col0 {\n",
              "  background-color: #86a9fc;\n",
              "  color: #f1f1f1;\n",
              "}\n",
              "#T_7a1f5_row2_col3 {\n",
              "  background-color: #92b4fe;\n",
              "  color: #000000;\n",
              "}\n",
              "#T_7a1f5_row2_col4 {\n",
              "  background-color: #e2dad5;\n",
              "  color: #000000;\n",
              "}\n",
              "#T_7a1f5_row2_col5 {\n",
              "  background-color: #e1dad6;\n",
              "  color: #000000;\n",
              "}\n",
              "#T_7a1f5_row3_col0, #T_7a1f5_row3_col5 {\n",
              "  background-color: #cedaeb;\n",
              "  color: #000000;\n",
              "}\n",
              "#T_7a1f5_row3_col2 {\n",
              "  background-color: #9dbdff;\n",
              "  color: #000000;\n",
              "}\n",
              "#T_7a1f5_row3_col4 {\n",
              "  background-color: #e5d8d1;\n",
              "  color: #000000;\n",
              "}\n",
              "#T_7a1f5_row3_col6 {\n",
              "  background-color: #8caffe;\n",
              "  color: #000000;\n",
              "}\n",
              "#T_7a1f5_row4_col0 {\n",
              "  background-color: #c7d7f0;\n",
              "  color: #000000;\n",
              "}\n",
              "#T_7a1f5_row4_col1 {\n",
              "  background-color: #5b7ae5;\n",
              "  color: #f1f1f1;\n",
              "}\n",
              "#T_7a1f5_row4_col2 {\n",
              "  background-color: #a9c6fd;\n",
              "  color: #000000;\n",
              "}\n",
              "#T_7a1f5_row4_col6, #T_7a1f5_row6_col0 {\n",
              "  background-color: #6b8df0;\n",
              "  color: #f1f1f1;\n",
              "}\n",
              "#T_7a1f5_row5_col1, #T_7a1f5_row6_col5 {\n",
              "  background-color: #c6d6f1;\n",
              "  color: #000000;\n",
              "}\n",
              "#T_7a1f5_row5_col2 {\n",
              "  background-color: #a6c4fe;\n",
              "  color: #000000;\n",
              "}\n",
              "#T_7a1f5_row5_col3, #T_7a1f5_row5_col6 {\n",
              "  background-color: #779af7;\n",
              "  color: #f1f1f1;\n",
              "}\n",
              "#T_7a1f5_row6_col1 {\n",
              "  background-color: #7093f3;\n",
              "  color: #f1f1f1;\n",
              "}\n",
              "#T_7a1f5_row6_col3 {\n",
              "  background-color: #80a3fa;\n",
              "  color: #f1f1f1;\n",
              "}\n",
              "#T_7a1f5_row6_col4 {\n",
              "  background-color: #bfd3f6;\n",
              "  color: #000000;\n",
              "}\n",
              "</style>\n",
              "<table id=\"T_7a1f5_\" class=\"dataframe\">\n",
              "  <thead>\n",
              "    <tr>\n",
              "      <th class=\"blank level0\" >&nbsp;</th>\n",
              "      <th class=\"col_heading level0 col0\" >white_rating</th>\n",
              "      <th class=\"col_heading level0 col1\" >black_rating</th>\n",
              "      <th class=\"col_heading level0 col2\" >victory_status</th>\n",
              "      <th class=\"col_heading level0 col3\" >dif_rating</th>\n",
              "      <th class=\"col_heading level0 col4\" >white</th>\n",
              "      <th class=\"col_heading level0 col5\" >black</th>\n",
              "      <th class=\"col_heading level0 col6\" >draw</th>\n",
              "    </tr>\n",
              "  </thead>\n",
              "  <tbody>\n",
              "    <tr>\n",
              "      <th id=\"T_7a1f5_level0_row0\" class=\"row_heading level0 row0\" >white_rating</th>\n",
              "      <td id=\"T_7a1f5_row0_col0\" class=\"data row0 col0\" >1.000000</td>\n",
              "      <td id=\"T_7a1f5_row0_col1\" class=\"data row0 col1\" >0.143473</td>\n",
              "      <td id=\"T_7a1f5_row0_col2\" class=\"data row0 col2\" >0.033851</td>\n",
              "      <td id=\"T_7a1f5_row0_col3\" class=\"data row0 col3\" >0.303468</td>\n",
              "      <td id=\"T_7a1f5_row0_col4\" class=\"data row0 col4\" >0.274575</td>\n",
              "      <td id=\"T_7a1f5_row0_col5\" class=\"data row0 col5\" >-0.257425</td>\n",
              "      <td id=\"T_7a1f5_row0_col6\" class=\"data row0 col6\" >-0.062050</td>\n",
              "    </tr>\n",
              "    <tr>\n",
              "      <th id=\"T_7a1f5_level0_row1\" class=\"row_heading level0 row1\" >black_rating</th>\n",
              "      <td id=\"T_7a1f5_row1_col0\" class=\"data row1 col0\" >0.143473</td>\n",
              "      <td id=\"T_7a1f5_row1_col1\" class=\"data row1 col1\" >1.000000</td>\n",
              "      <td id=\"T_7a1f5_row1_col2\" class=\"data row1 col2\" >0.092634</td>\n",
              "      <td id=\"T_7a1f5_row1_col3\" class=\"data row1 col3\" >-0.332943</td>\n",
              "      <td id=\"T_7a1f5_row1_col4\" class=\"data row1 col4\" >-0.192235</td>\n",
              "      <td id=\"T_7a1f5_row1_col5\" class=\"data row1 col5\" >0.226287</td>\n",
              "      <td id=\"T_7a1f5_row1_col6\" class=\"data row1 col6\" >-0.104461</td>\n",
              "    </tr>\n",
              "    <tr>\n",
              "      <th id=\"T_7a1f5_level0_row2\" class=\"row_heading level0 row2\" >victory_status</th>\n",
              "      <td id=\"T_7a1f5_row2_col0\" class=\"data row2 col0\" >0.033851</td>\n",
              "      <td id=\"T_7a1f5_row2_col1\" class=\"data row2 col1\" >0.092634</td>\n",
              "      <td id=\"T_7a1f5_row2_col2\" class=\"data row2 col2\" >1.000000</td>\n",
              "      <td id=\"T_7a1f5_row2_col3\" class=\"data row2 col3\" >0.017427</td>\n",
              "      <td id=\"T_7a1f5_row2_col4\" class=\"data row2 col4\" >0.066338</td>\n",
              "      <td id=\"T_7a1f5_row2_col5\" class=\"data row2 col5\" >0.055811</td>\n",
              "      <td id=\"T_7a1f5_row2_col6\" class=\"data row2 col6\" >-0.393926</td>\n",
              "    </tr>\n",
              "    <tr>\n",
              "      <th id=\"T_7a1f5_level0_row3\" class=\"row_heading level0 row3\" >dif_rating</th>\n",
              "      <td id=\"T_7a1f5_row3_col0\" class=\"data row3 col0\" >0.303468</td>\n",
              "      <td id=\"T_7a1f5_row3_col1\" class=\"data row3 col1\" >-0.332943</td>\n",
              "      <td id=\"T_7a1f5_row3_col2\" class=\"data row3 col2\" >0.017427</td>\n",
              "      <td id=\"T_7a1f5_row3_col3\" class=\"data row3 col3\" >1.000000</td>\n",
              "      <td id=\"T_7a1f5_row3_col4\" class=\"data row3 col4\" >0.092226</td>\n",
              "      <td id=\"T_7a1f5_row3_col5\" class=\"data row3 col5\" >-0.078032</td>\n",
              "      <td id=\"T_7a1f5_row3_col6\" class=\"data row3 col6\" >-0.047925</td>\n",
              "    </tr>\n",
              "    <tr>\n",
              "      <th id=\"T_7a1f5_level0_row4\" class=\"row_heading level0 row4\" >white</th>\n",
              "      <td id=\"T_7a1f5_row4_col0\" class=\"data row4 col0\" >0.274575</td>\n",
              "      <td id=\"T_7a1f5_row4_col1\" class=\"data row4 col1\" >-0.192235</td>\n",
              "      <td id=\"T_7a1f5_row4_col2\" class=\"data row4 col2\" >0.066338</td>\n",
              "      <td id=\"T_7a1f5_row4_col3\" class=\"data row4 col3\" >0.092226</td>\n",
              "      <td id=\"T_7a1f5_row4_col4\" class=\"data row4 col4\" >1.000000</td>\n",
              "      <td id=\"T_7a1f5_row4_col5\" class=\"data row4 col5\" >-0.951922</td>\n",
              "      <td id=\"T_7a1f5_row4_col6\" class=\"data row4 col6\" >-0.179810</td>\n",
              "    </tr>\n",
              "    <tr>\n",
              "      <th id=\"T_7a1f5_level0_row5\" class=\"row_heading level0 row5\" >black</th>\n",
              "      <td id=\"T_7a1f5_row5_col0\" class=\"data row5 col0\" >-0.257425</td>\n",
              "      <td id=\"T_7a1f5_row5_col1\" class=\"data row5 col1\" >0.226287</td>\n",
              "      <td id=\"T_7a1f5_row5_col2\" class=\"data row5 col2\" >0.055811</td>\n",
              "      <td id=\"T_7a1f5_row5_col3\" class=\"data row5 col3\" >-0.078032</td>\n",
              "      <td id=\"T_7a1f5_row5_col4\" class=\"data row5 col4\" >-0.951922</td>\n",
              "      <td id=\"T_7a1f5_row5_col5\" class=\"data row5 col5\" >1.000000</td>\n",
              "      <td id=\"T_7a1f5_row5_col6\" class=\"data row5 col6\" >-0.130182</td>\n",
              "    </tr>\n",
              "    <tr>\n",
              "      <th id=\"T_7a1f5_level0_row6\" class=\"row_heading level0 row6\" >draw</th>\n",
              "      <td id=\"T_7a1f5_row6_col0\" class=\"data row6 col0\" >-0.062050</td>\n",
              "      <td id=\"T_7a1f5_row6_col1\" class=\"data row6 col1\" >-0.104461</td>\n",
              "      <td id=\"T_7a1f5_row6_col2\" class=\"data row6 col2\" >-0.393926</td>\n",
              "      <td id=\"T_7a1f5_row6_col3\" class=\"data row6 col3\" >-0.047925</td>\n",
              "      <td id=\"T_7a1f5_row6_col4\" class=\"data row6 col4\" >-0.179810</td>\n",
              "      <td id=\"T_7a1f5_row6_col5\" class=\"data row6 col5\" >-0.130182</td>\n",
              "      <td id=\"T_7a1f5_row6_col6\" class=\"data row6 col6\" >1.000000</td>\n",
              "    </tr>\n",
              "  </tbody>\n",
              "</table>\n"
            ]
          },
          "metadata": {},
          "execution_count": 51
        }
      ]
    },
    {
      "cell_type": "code",
      "source": [],
      "metadata": {
        "id": "uwPrF2634m4A"
      },
      "execution_count": null,
      "outputs": []
    }
  ]
}